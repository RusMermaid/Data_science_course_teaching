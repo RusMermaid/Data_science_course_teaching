{
  "cells": [
    {
      "cell_type": "markdown",
      "metadata": {
        "id": "view-in-github",
        "colab_type": "text"
      },
      "source": [
        "<a href=\"https://colab.research.google.com/github/RusMermaid/Data_science_course_teaching/blob/main/L2.ipynb\" target=\"_parent\"><img src=\"https://colab.research.google.com/assets/colab-badge.svg\" alt=\"Open In Colab\"/></a>"
      ]
    },
    {
      "cell_type": "code",
      "execution_count": null,
      "metadata": {
        "id": "fdsOYuD6w4Hz"
      },
      "outputs": [],
      "source": [
        "import pandas as pd\n",
        "import numpy as np\n",
        "import matplotlib.pyplot as plt\n",
        "%matplotlib inline \n",
        "import seaborn as sns\n",
        "\n",
        "pd.options.mode.chained_assignment = None"
      ]
    },
    {
      "cell_type": "markdown",
      "metadata": {
        "id": "BWJ6nm-Kw4H1"
      },
      "source": [
        "# Первичный анализ данных"
      ]
    },
    {
      "cell_type": "markdown",
      "metadata": {
        "id": "LKaiL-7ow4H3"
      },
      "source": [
        "Директор огромного санатория для подростков хочет прикинуть бюджет на питание, понять какие типы питания нужны в санатории, какие витамины, итд.  \n",
        "\n",
        "Он запросил данные и ему выдали список: там только рост и вес подростков. \n",
        "\n",
        "Он приглашает специалиста по дата сайнс (то есть, вас)  и просит разобраться в данных и представить короткий отчет, дающий представление о том какие дети находятся в санатории.\n",
        "\n",
        "Давайте вместе попробуем совершить этот анализ"
      ]
    },
    {
      "cell_type": "code",
      "execution_count": null,
      "metadata": {
        "id": "kCE6XJaqw4H3"
      },
      "outputs": [],
      "source": []
    },
    {
      "cell_type": "markdown",
      "metadata": {
        "id": "LMmubkPSw4H4"
      },
      "source": [
        "Прежде всего, прочитаем данные, где собраны рост и вес подростков"
      ]
    },
    {
      "cell_type": "code",
      "execution_count": null,
      "metadata": {
        "id": "gb1OJ-4Ww4H4"
      },
      "outputs": [],
      "source": [
        "df = pd.read_csv('teens_h_w.csv')"
      ]
    },
    {
      "cell_type": "markdown",
      "metadata": {
        "id": "Ig1F_lRDw4H5"
      },
      "source": [
        "Теперь наши данные прочитаны в таблицу датафрейм библиотеки Pandas.\n",
        "\n",
        "\n",
        "Посмотрим, сколько там представлено людей? "
      ]
    },
    {
      "cell_type": "code",
      "execution_count": null,
      "metadata": {
        "colab": {
          "base_uri": "https://localhost:8080/"
        },
        "id": "xEFUiwLow4H5",
        "outputId": "c80e9106-b7a7-4ac5-d6c6-c5b373101a0b"
      },
      "outputs": [
        {
          "output_type": "stream",
          "name": "stdout",
          "text": [
            "число строк в таблице -  25002\n"
          ]
        }
      ],
      "source": [
        "print('число строк в таблице - ', len(df))"
      ]
    },
    {
      "cell_type": "markdown",
      "metadata": {
        "id": "ezqijLMfw4H6"
      },
      "source": [
        "25 тысяч - это немало!"
      ]
    },
    {
      "cell_type": "markdown",
      "metadata": {
        "id": "NZTdVmmkw4H7"
      },
      "source": [
        "посмотрим на них.\n",
        "\n",
        "В данных есть 3 поля:\n",
        "\n",
        "    Index - номер по порядку\n",
        "    Height - рост\n",
        "    Weight - вес\n"
      ]
    },
    {
      "cell_type": "code",
      "execution_count": null,
      "metadata": {
        "colab": {
          "base_uri": "https://localhost:8080/",
          "height": 206
        },
        "id": "4C38O5iLw4H7",
        "outputId": "aae68124-4e15-4ce5-dc9f-a549c20b4018"
      },
      "outputs": [
        {
          "output_type": "execute_result",
          "data": {
            "text/plain": [
              "   Index    Height    Weight\n",
              "0      1  65.78331  112.9925\n",
              "1      2  71.51521  136.4873\n",
              "2      3  69.39874  153.0269\n",
              "3      4  68.21660  142.3354\n",
              "4      5  67.78781  144.2971"
            ],
            "text/html": [
              "\n",
              "  <div id=\"df-11402592-671e-433c-ae9d-abd942e882dd\">\n",
              "    <div class=\"colab-df-container\">\n",
              "      <div>\n",
              "<style scoped>\n",
              "    .dataframe tbody tr th:only-of-type {\n",
              "        vertical-align: middle;\n",
              "    }\n",
              "\n",
              "    .dataframe tbody tr th {\n",
              "        vertical-align: top;\n",
              "    }\n",
              "\n",
              "    .dataframe thead th {\n",
              "        text-align: right;\n",
              "    }\n",
              "</style>\n",
              "<table border=\"1\" class=\"dataframe\">\n",
              "  <thead>\n",
              "    <tr style=\"text-align: right;\">\n",
              "      <th></th>\n",
              "      <th>Index</th>\n",
              "      <th>Height</th>\n",
              "      <th>Weight</th>\n",
              "    </tr>\n",
              "  </thead>\n",
              "  <tbody>\n",
              "    <tr>\n",
              "      <th>0</th>\n",
              "      <td>1</td>\n",
              "      <td>65.78331</td>\n",
              "      <td>112.9925</td>\n",
              "    </tr>\n",
              "    <tr>\n",
              "      <th>1</th>\n",
              "      <td>2</td>\n",
              "      <td>71.51521</td>\n",
              "      <td>136.4873</td>\n",
              "    </tr>\n",
              "    <tr>\n",
              "      <th>2</th>\n",
              "      <td>3</td>\n",
              "      <td>69.39874</td>\n",
              "      <td>153.0269</td>\n",
              "    </tr>\n",
              "    <tr>\n",
              "      <th>3</th>\n",
              "      <td>4</td>\n",
              "      <td>68.21660</td>\n",
              "      <td>142.3354</td>\n",
              "    </tr>\n",
              "    <tr>\n",
              "      <th>4</th>\n",
              "      <td>5</td>\n",
              "      <td>67.78781</td>\n",
              "      <td>144.2971</td>\n",
              "    </tr>\n",
              "  </tbody>\n",
              "</table>\n",
              "</div>\n",
              "      <button class=\"colab-df-convert\" onclick=\"convertToInteractive('df-11402592-671e-433c-ae9d-abd942e882dd')\"\n",
              "              title=\"Convert this dataframe to an interactive table.\"\n",
              "              style=\"display:none;\">\n",
              "        \n",
              "  <svg xmlns=\"http://www.w3.org/2000/svg\" height=\"24px\"viewBox=\"0 0 24 24\"\n",
              "       width=\"24px\">\n",
              "    <path d=\"M0 0h24v24H0V0z\" fill=\"none\"/>\n",
              "    <path d=\"M18.56 5.44l.94 2.06.94-2.06 2.06-.94-2.06-.94-.94-2.06-.94 2.06-2.06.94zm-11 1L8.5 8.5l.94-2.06 2.06-.94-2.06-.94L8.5 2.5l-.94 2.06-2.06.94zm10 10l.94 2.06.94-2.06 2.06-.94-2.06-.94-.94-2.06-.94 2.06-2.06.94z\"/><path d=\"M17.41 7.96l-1.37-1.37c-.4-.4-.92-.59-1.43-.59-.52 0-1.04.2-1.43.59L10.3 9.45l-7.72 7.72c-.78.78-.78 2.05 0 2.83L4 21.41c.39.39.9.59 1.41.59.51 0 1.02-.2 1.41-.59l7.78-7.78 2.81-2.81c.8-.78.8-2.07 0-2.86zM5.41 20L4 18.59l7.72-7.72 1.47 1.35L5.41 20z\"/>\n",
              "  </svg>\n",
              "      </button>\n",
              "      \n",
              "  <style>\n",
              "    .colab-df-container {\n",
              "      display:flex;\n",
              "      flex-wrap:wrap;\n",
              "      gap: 12px;\n",
              "    }\n",
              "\n",
              "    .colab-df-convert {\n",
              "      background-color: #E8F0FE;\n",
              "      border: none;\n",
              "      border-radius: 50%;\n",
              "      cursor: pointer;\n",
              "      display: none;\n",
              "      fill: #1967D2;\n",
              "      height: 32px;\n",
              "      padding: 0 0 0 0;\n",
              "      width: 32px;\n",
              "    }\n",
              "\n",
              "    .colab-df-convert:hover {\n",
              "      background-color: #E2EBFA;\n",
              "      box-shadow: 0px 1px 2px rgba(60, 64, 67, 0.3), 0px 1px 3px 1px rgba(60, 64, 67, 0.15);\n",
              "      fill: #174EA6;\n",
              "    }\n",
              "\n",
              "    [theme=dark] .colab-df-convert {\n",
              "      background-color: #3B4455;\n",
              "      fill: #D2E3FC;\n",
              "    }\n",
              "\n",
              "    [theme=dark] .colab-df-convert:hover {\n",
              "      background-color: #434B5C;\n",
              "      box-shadow: 0px 1px 3px 1px rgba(0, 0, 0, 0.15);\n",
              "      filter: drop-shadow(0px 1px 2px rgba(0, 0, 0, 0.3));\n",
              "      fill: #FFFFFF;\n",
              "    }\n",
              "  </style>\n",
              "\n",
              "      <script>\n",
              "        const buttonEl =\n",
              "          document.querySelector('#df-11402592-671e-433c-ae9d-abd942e882dd button.colab-df-convert');\n",
              "        buttonEl.style.display =\n",
              "          google.colab.kernel.accessAllowed ? 'block' : 'none';\n",
              "\n",
              "        async function convertToInteractive(key) {\n",
              "          const element = document.querySelector('#df-11402592-671e-433c-ae9d-abd942e882dd');\n",
              "          const dataTable =\n",
              "            await google.colab.kernel.invokeFunction('convertToInteractive',\n",
              "                                                     [key], {});\n",
              "          if (!dataTable) return;\n",
              "\n",
              "          const docLinkHtml = 'Like what you see? Visit the ' +\n",
              "            '<a target=\"_blank\" href=https://colab.research.google.com/notebooks/data_table.ipynb>data table notebook</a>'\n",
              "            + ' to learn more about interactive tables.';\n",
              "          element.innerHTML = '';\n",
              "          dataTable['output_type'] = 'display_data';\n",
              "          await google.colab.output.renderOutput(dataTable, element);\n",
              "          const docLink = document.createElement('div');\n",
              "          docLink.innerHTML = docLinkHtml;\n",
              "          element.appendChild(docLink);\n",
              "        }\n",
              "      </script>\n",
              "    </div>\n",
              "  </div>\n",
              "  "
            ]
          },
          "metadata": {},
          "execution_count": 4
        }
      ],
      "source": [
        "df.head(5)"
      ]
    },
    {
      "cell_type": "markdown",
      "metadata": {
        "id": "XEBskC0Aw4H7"
      },
      "source": [
        "сразу видна странность в цифрах. \n",
        "Вес 112 кг при росте 67 см? \n",
        "Невозможно!\n",
        "\n",
        "Догадка: единицы измерения другие, скорее всего, это дюймы и фунты.\n",
        "\n",
        "Погуглим:\n",
        "\n",
        "1 фунт - 453,592г\n",
        "\n",
        "1 дюйм - 2.54 см\n",
        "\n",
        "Чтобы нам было привычнее, добывим новые колонки в таблицу - пересчитаем наши данные в сантиметры и килограммы:"
      ]
    },
    {
      "cell_type": "code",
      "execution_count": null,
      "metadata": {
        "id": "LtK5yWosw4H8"
      },
      "outputs": [],
      "source": [
        "df['height_sm']  = 0\n",
        "df['weight_kg'] = 0\n",
        "df['height_sm'] = df['Height'].apply(lambda x: x*2.54)\n",
        "df['weight_kg'] = df['Weight'].apply(lambda x: x*0.453592)"
      ]
    },
    {
      "cell_type": "markdown",
      "metadata": {
        "id": "bFA6a9RNw4H8"
      },
      "source": [
        "опять посмотрим на данные"
      ]
    },
    {
      "cell_type": "code",
      "execution_count": null,
      "metadata": {
        "colab": {
          "base_uri": "https://localhost:8080/",
          "height": 206
        },
        "id": "NB3DJGtkw4H8",
        "outputId": "f161d6dc-1069-47a3-9724-1e9acd81ab4a"
      },
      "outputs": [
        {
          "output_type": "execute_result",
          "data": {
            "text/plain": [
              "   Index    Height    Weight   height_sm  weight_kg\n",
              "0      1  65.78331  112.9925  167.089607  51.252494\n",
              "1      2  71.51521  136.4873  181.648633  61.909547\n",
              "2      3  69.39874  153.0269  176.272800  69.411778\n",
              "3      4  68.21660  142.3354  173.270164  64.562199\n",
              "4      5  67.78781  144.2971  172.181037  65.452010"
            ],
            "text/html": [
              "\n",
              "  <div id=\"df-955e9bae-429e-4d18-bbc8-eaaf3ea7ce25\">\n",
              "    <div class=\"colab-df-container\">\n",
              "      <div>\n",
              "<style scoped>\n",
              "    .dataframe tbody tr th:only-of-type {\n",
              "        vertical-align: middle;\n",
              "    }\n",
              "\n",
              "    .dataframe tbody tr th {\n",
              "        vertical-align: top;\n",
              "    }\n",
              "\n",
              "    .dataframe thead th {\n",
              "        text-align: right;\n",
              "    }\n",
              "</style>\n",
              "<table border=\"1\" class=\"dataframe\">\n",
              "  <thead>\n",
              "    <tr style=\"text-align: right;\">\n",
              "      <th></th>\n",
              "      <th>Index</th>\n",
              "      <th>Height</th>\n",
              "      <th>Weight</th>\n",
              "      <th>height_sm</th>\n",
              "      <th>weight_kg</th>\n",
              "    </tr>\n",
              "  </thead>\n",
              "  <tbody>\n",
              "    <tr>\n",
              "      <th>0</th>\n",
              "      <td>1</td>\n",
              "      <td>65.78331</td>\n",
              "      <td>112.9925</td>\n",
              "      <td>167.089607</td>\n",
              "      <td>51.252494</td>\n",
              "    </tr>\n",
              "    <tr>\n",
              "      <th>1</th>\n",
              "      <td>2</td>\n",
              "      <td>71.51521</td>\n",
              "      <td>136.4873</td>\n",
              "      <td>181.648633</td>\n",
              "      <td>61.909547</td>\n",
              "    </tr>\n",
              "    <tr>\n",
              "      <th>2</th>\n",
              "      <td>3</td>\n",
              "      <td>69.39874</td>\n",
              "      <td>153.0269</td>\n",
              "      <td>176.272800</td>\n",
              "      <td>69.411778</td>\n",
              "    </tr>\n",
              "    <tr>\n",
              "      <th>3</th>\n",
              "      <td>4</td>\n",
              "      <td>68.21660</td>\n",
              "      <td>142.3354</td>\n",
              "      <td>173.270164</td>\n",
              "      <td>64.562199</td>\n",
              "    </tr>\n",
              "    <tr>\n",
              "      <th>4</th>\n",
              "      <td>5</td>\n",
              "      <td>67.78781</td>\n",
              "      <td>144.2971</td>\n",
              "      <td>172.181037</td>\n",
              "      <td>65.452010</td>\n",
              "    </tr>\n",
              "  </tbody>\n",
              "</table>\n",
              "</div>\n",
              "      <button class=\"colab-df-convert\" onclick=\"convertToInteractive('df-955e9bae-429e-4d18-bbc8-eaaf3ea7ce25')\"\n",
              "              title=\"Convert this dataframe to an interactive table.\"\n",
              "              style=\"display:none;\">\n",
              "        \n",
              "  <svg xmlns=\"http://www.w3.org/2000/svg\" height=\"24px\"viewBox=\"0 0 24 24\"\n",
              "       width=\"24px\">\n",
              "    <path d=\"M0 0h24v24H0V0z\" fill=\"none\"/>\n",
              "    <path d=\"M18.56 5.44l.94 2.06.94-2.06 2.06-.94-2.06-.94-.94-2.06-.94 2.06-2.06.94zm-11 1L8.5 8.5l.94-2.06 2.06-.94-2.06-.94L8.5 2.5l-.94 2.06-2.06.94zm10 10l.94 2.06.94-2.06 2.06-.94-2.06-.94-.94-2.06-.94 2.06-2.06.94z\"/><path d=\"M17.41 7.96l-1.37-1.37c-.4-.4-.92-.59-1.43-.59-.52 0-1.04.2-1.43.59L10.3 9.45l-7.72 7.72c-.78.78-.78 2.05 0 2.83L4 21.41c.39.39.9.59 1.41.59.51 0 1.02-.2 1.41-.59l7.78-7.78 2.81-2.81c.8-.78.8-2.07 0-2.86zM5.41 20L4 18.59l7.72-7.72 1.47 1.35L5.41 20z\"/>\n",
              "  </svg>\n",
              "      </button>\n",
              "      \n",
              "  <style>\n",
              "    .colab-df-container {\n",
              "      display:flex;\n",
              "      flex-wrap:wrap;\n",
              "      gap: 12px;\n",
              "    }\n",
              "\n",
              "    .colab-df-convert {\n",
              "      background-color: #E8F0FE;\n",
              "      border: none;\n",
              "      border-radius: 50%;\n",
              "      cursor: pointer;\n",
              "      display: none;\n",
              "      fill: #1967D2;\n",
              "      height: 32px;\n",
              "      padding: 0 0 0 0;\n",
              "      width: 32px;\n",
              "    }\n",
              "\n",
              "    .colab-df-convert:hover {\n",
              "      background-color: #E2EBFA;\n",
              "      box-shadow: 0px 1px 2px rgba(60, 64, 67, 0.3), 0px 1px 3px 1px rgba(60, 64, 67, 0.15);\n",
              "      fill: #174EA6;\n",
              "    }\n",
              "\n",
              "    [theme=dark] .colab-df-convert {\n",
              "      background-color: #3B4455;\n",
              "      fill: #D2E3FC;\n",
              "    }\n",
              "\n",
              "    [theme=dark] .colab-df-convert:hover {\n",
              "      background-color: #434B5C;\n",
              "      box-shadow: 0px 1px 3px 1px rgba(0, 0, 0, 0.15);\n",
              "      filter: drop-shadow(0px 1px 2px rgba(0, 0, 0, 0.3));\n",
              "      fill: #FFFFFF;\n",
              "    }\n",
              "  </style>\n",
              "\n",
              "      <script>\n",
              "        const buttonEl =\n",
              "          document.querySelector('#df-955e9bae-429e-4d18-bbc8-eaaf3ea7ce25 button.colab-df-convert');\n",
              "        buttonEl.style.display =\n",
              "          google.colab.kernel.accessAllowed ? 'block' : 'none';\n",
              "\n",
              "        async function convertToInteractive(key) {\n",
              "          const element = document.querySelector('#df-955e9bae-429e-4d18-bbc8-eaaf3ea7ce25');\n",
              "          const dataTable =\n",
              "            await google.colab.kernel.invokeFunction('convertToInteractive',\n",
              "                                                     [key], {});\n",
              "          if (!dataTable) return;\n",
              "\n",
              "          const docLinkHtml = 'Like what you see? Visit the ' +\n",
              "            '<a target=\"_blank\" href=https://colab.research.google.com/notebooks/data_table.ipynb>data table notebook</a>'\n",
              "            + ' to learn more about interactive tables.';\n",
              "          element.innerHTML = '';\n",
              "          dataTable['output_type'] = 'display_data';\n",
              "          await google.colab.output.renderOutput(dataTable, element);\n",
              "          const docLink = document.createElement('div');\n",
              "          docLink.innerHTML = docLinkHtml;\n",
              "          element.appendChild(docLink);\n",
              "        }\n",
              "      </script>\n",
              "    </div>\n",
              "  </div>\n",
              "  "
            ]
          },
          "metadata": {},
          "execution_count": 6
        }
      ],
      "source": [
        "df.head(5)"
      ]
    },
    {
      "cell_type": "markdown",
      "metadata": {
        "id": "kPCRWQ-2w4H8"
      },
      "source": [
        "теперь колонки в см и кг выглядят гораздо понятнее"
      ]
    },
    {
      "cell_type": "code",
      "execution_count": null,
      "metadata": {
        "id": "Sqz2d_Bjw4H9"
      },
      "outputs": [],
      "source": []
    },
    {
      "cell_type": "markdown",
      "metadata": {
        "id": "-0zN3JD1w4H9"
      },
      "source": [
        "## Итак, что мы можем узнать из этих данных?"
      ]
    },
    {
      "cell_type": "markdown",
      "metadata": {
        "id": "6Tr567Lrw4H9"
      },
      "source": [
        "Прежде всего посмотрим на средние значения роста и веса наших подростков.\n",
        "\n",
        "Чтобы посчитать среднее арифметическое значение величины нужно\n",
        "сложить все величины\n",
        "и полученную сумму разделить на число слагаемых."
      ]
    },
    {
      "cell_type": "code",
      "execution_count": null,
      "metadata": {
        "colab": {
          "base_uri": "https://localhost:8080/"
        },
        "id": "zMl08JG7w4H9",
        "outputId": "bd169b94-94d5-4d1e-ce62-438b1d140f70"
      },
      "outputs": [
        {
          "output_type": "stream",
          "name": "stdout",
          "text": [
            "среднее значение роста в см - 872.4949602658505\n",
            "среднее значение веса в кг - 57.642008891370374\n"
          ]
        }
      ],
      "source": [
        "print('среднее значение роста в см -', df['height_sm'].mean())\n",
        "print('среднее значение веса в кг -', df['weight_kg'].mean())"
      ]
    },
    {
      "cell_type": "markdown",
      "metadata": {
        "id": "q29t_eqXw4H-"
      },
      "source": [
        "какое удивительное среднее значение роста!\n",
        "872 см - больше 8 метров!\n",
        "\n",
        "Как такое может быть?"
      ]
    },
    {
      "cell_type": "markdown",
      "metadata": {
        "id": "gXkkWFAQw4H-"
      },
      "source": [
        "Давайте посмотрим на максимальное и минимальное значение роста в см:"
      ]
    },
    {
      "cell_type": "code",
      "execution_count": null,
      "metadata": {
        "colab": {
          "base_uri": "https://localhost:8080/"
        },
        "id": "HLoe38lLw4H-",
        "outputId": "9c7de0f5-f484-4d34-b7e6-ac65e5d2b442"
      },
      "outputs": [
        {
          "output_type": "stream",
          "name": "stdout",
          "text": [
            "минимальное значение роста в см - 153.1070344\n",
            "максимальное значение роста в см - 17494912.94\n"
          ]
        }
      ],
      "source": [
        "print('минимальное значение роста в см -', df['height_sm'].min())\n",
        "print('максимальное значение роста в см -', df['height_sm'].max())"
      ]
    },
    {
      "cell_type": "markdown",
      "metadata": {
        "id": "lUP6cETEw4H-"
      },
      "source": [
        "похоже, здесь какая-то ошибка, максимальный рост - 174 км!"
      ]
    },
    {
      "cell_type": "markdown",
      "metadata": {
        "id": "w0nrMnWjw4H-"
      },
      "source": [
        "а как это было в дюймах?"
      ]
    },
    {
      "cell_type": "code",
      "execution_count": null,
      "metadata": {
        "colab": {
          "base_uri": "https://localhost:8080/"
        },
        "id": "F2-A7p9Pw4H_",
        "outputId": "1b85381a-3f7a-419b-d218-da7c50ba6bec"
      },
      "outputs": [
        {
          "output_type": "stream",
          "name": "stdout",
          "text": [
            "минимальное значение роста в дюймах - 60.27836\n",
            "максимальное значение роста в дюймах - 6887761.0\n"
          ]
        }
      ],
      "source": [
        "print('минимальное значение роста в дюймах -', df['Height'].min())\n",
        "print('максимальное значение роста в дюймах -', df['Height'].max())"
      ]
    },
    {
      "cell_type": "markdown",
      "metadata": {
        "id": "r4Wkph3Lw4H_"
      },
      "source": [
        "кажется, все ясно! \n",
        "Сборщик данных явно забыл поставить десятичную точку, когда вводил значение роста.\n",
        "Вот и получилось такое огромное число.\n",
        "\n",
        "Ошибки в данных бывают очень часто, за этим надо следить и учитывать."
      ]
    },
    {
      "cell_type": "markdown",
      "metadata": {
        "id": "_PVsn5B3w4H_"
      },
      "source": [
        "Такие странные значения в данных называются выбросами.\n",
        "Выбросы могут появиться в результате \n",
        " - ошибки сборщика данных \n",
        " - или из-за присутствия в нашей выборке, действительно необычных данных. Например, если в группе подростков обычного роста есть один баскетболист с ростом 2 м."
      ]
    },
    {
      "cell_type": "markdown",
      "metadata": {
        "id": "NBwnWHe1w4H_"
      },
      "source": [
        "Выбросы смещают среднее значение, делают его менее осмысленным."
      ]
    },
    {
      "cell_type": "markdown",
      "metadata": {
        "id": "D5eesSPjw4H_"
      },
      "source": [
        "Как бороться с этим, и более адекватно оценить среднее значение роста?"
      ]
    },
    {
      "cell_type": "markdown",
      "metadata": {
        "id": "VThbN813w4IA"
      },
      "source": [
        "1. Упорядочим всех подростков по росту и выберем рост человека, стоящего посередине.\n",
        "\n",
        "    Это значение роста называется Медиана.\n",
        "\n",
        "    Медиана почти не зависит от редких выбросов."
      ]
    },
    {
      "cell_type": "markdown",
      "metadata": {
        "id": "6P9VacbXw4IA"
      },
      "source": [
        "Посчитаем медианы роста и веса\n",
        "\n",
        "Видите, они уже гораздо более осмысленны:"
      ]
    },
    {
      "cell_type": "code",
      "execution_count": null,
      "metadata": {
        "colab": {
          "base_uri": "https://localhost:8080/"
        },
        "id": "KmSLXCITw4IA",
        "outputId": "e1d074f1-7ba8-4df0-cc4b-b37926054498"
      },
      "outputs": [
        {
          "output_type": "stream",
          "name": "stdout",
          "text": [
            "медиана роста в см - 172.7097003\n",
            "медиана веса в кг - 57.6772618664\n"
          ]
        }
      ],
      "source": [
        "print('медиана роста в см -', df['height_sm'].median())\n",
        "print('медиана веса в кг -', df['weight_kg'].median())"
      ]
    },
    {
      "cell_type": "markdown",
      "metadata": {
        "id": "1hs98XdFw4IA"
      },
      "source": [
        "2. Мы можем поправить это ошибочное значение роста и заново пересчитать рост в см"
      ]
    },
    {
      "cell_type": "code",
      "execution_count": null,
      "metadata": {
        "id": "S3LML2Thw4IB"
      },
      "outputs": [],
      "source": [
        "df.loc[df['Height'] == 6887761.0, ['Height']] = 68.877610\n",
        "\n",
        "df.loc[df['Height'] == 68.877610, ['height_sm']] = 68.877610*2.54\n"
      ]
    },
    {
      "cell_type": "markdown",
      "metadata": {
        "id": "gJfYtbHNw4IB"
      },
      "source": [
        "Мы исправили выброс, давайте посмотрим, как изменилось следнее значение роста и его медиана:"
      ]
    },
    {
      "cell_type": "code",
      "execution_count": null,
      "metadata": {
        "colab": {
          "base_uri": "https://localhost:8080/"
        },
        "id": "t7MQi5Bpw4IB",
        "outputId": "7b50739f-bbe3-4973-edab-15967fdfa580"
      },
      "outputs": [
        {
          "output_type": "stream",
          "name": "stdout",
          "text": [
            "среднее значение роста в см - 172.76141931430286\n",
            "медиана роста в см - 172.7097003\n"
          ]
        }
      ],
      "source": [
        "print('среднее значение роста в см -', df['height_sm'].mean())\n",
        "print('медиана роста в см -', df['height_sm'].median())"
      ]
    },
    {
      "cell_type": "markdown",
      "metadata": {
        "id": "1VkhQqBHw4IB"
      },
      "source": [
        "Теперь они почти равны друг другу!"
      ]
    },
    {
      "cell_type": "markdown",
      "metadata": {
        "id": "x4PywZn9w4IC"
      },
      "source": [
        "Проверим еще раз максимальное значение роста:"
      ]
    },
    {
      "cell_type": "code",
      "execution_count": null,
      "metadata": {
        "colab": {
          "base_uri": "https://localhost:8080/"
        },
        "id": "XjyHVsovw4IC",
        "outputId": "a614354c-d34d-4631-ec3c-25f73d658849"
      },
      "outputs": [
        {
          "output_type": "stream",
          "name": "stdout",
          "text": [
            "максимальное значение роста в см - 1643.34317\n"
          ]
        }
      ],
      "source": [
        "print('максимальное значение роста в см -', df['height_sm'].max())"
      ]
    },
    {
      "cell_type": "markdown",
      "metadata": {
        "id": "v7ZJKgbnw4IC"
      },
      "source": [
        "Что такое, опять странное значение - больше 16 метров!\n",
        "\n",
        "Давайте применим радикальный способ."
      ]
    },
    {
      "cell_type": "markdown",
      "metadata": {
        "id": "ojrChk15w4IC"
      },
      "source": [
        "3. давайте ограничим в таблице рост каким-то разумным значением. \n",
        "\n",
        "    Иногда приходится использовать Google, чтобы выбрать разумные ограничения на величину, но в данном случае мы и так в курсе.\n",
        "    \n",
        "    Будем считать, что подростков выше 2х метров не бывает. "
      ]
    },
    {
      "cell_type": "code",
      "execution_count": null,
      "metadata": {
        "id": "QuWe3YWtw4IC"
      },
      "outputs": [],
      "source": [
        "df = df[df['height_sm'] < 200]"
      ]
    },
    {
      "cell_type": "markdown",
      "metadata": {
        "id": "9G0m7zrKw4ID"
      },
      "source": [
        "еще раз посмотрим на максимальный рост, среднее значение и медиану роста в наших данных:"
      ]
    },
    {
      "cell_type": "code",
      "execution_count": null,
      "metadata": {
        "colab": {
          "base_uri": "https://localhost:8080/"
        },
        "id": "q7K8NjNYw4ID",
        "outputId": "a8fb51f8-d111-4486-b93b-78072308682b"
      },
      "outputs": [
        {
          "output_type": "stream",
          "name": "stdout",
          "text": [
            "максимальное значение роста в сантиметрах - 190.888112\n"
          ]
        }
      ],
      "source": [
        "print('максимальное значение роста в сантиметрах -', df['height_sm'].max())"
      ]
    },
    {
      "cell_type": "markdown",
      "metadata": {
        "id": "tzqzGbYzw4ID"
      },
      "source": [
        "Еще раз посмотрим на среднее и медиану"
      ]
    },
    {
      "cell_type": "code",
      "execution_count": null,
      "metadata": {
        "colab": {
          "base_uri": "https://localhost:8080/"
        },
        "id": "m7IByVhnw4ID",
        "outputId": "2be812b0-f36e-4af6-8431-196d4a89486f"
      },
      "outputs": [
        {
          "output_type": "stream",
          "name": "stdout",
          "text": [
            "среднее значение роста в см - 172.7025983971121\n",
            "медиана роста в см - 172.7096368\n"
          ]
        }
      ],
      "source": [
        "print('среднее значение роста в см -', df['height_sm'].mean())\n",
        "print('медиана роста в см -', df['height_sm'].median())"
      ]
    },
    {
      "cell_type": "markdown",
      "metadata": {
        "id": "oURIgkn-w4ID"
      },
      "source": [
        "Обратите внимание - мы убрали из данных такой огромный выброс - 16-метрового человека.\n",
        "\n",
        "А среднее значение при этом, почти не изменилось.\n",
        "\n",
        "Почему так получилось?\n",
        "Подумайте об этом дома."
      ]
    },
    {
      "cell_type": "code",
      "execution_count": null,
      "metadata": {
        "id": "uP0m1QG2w4IE"
      },
      "outputs": [],
      "source": []
    },
    {
      "cell_type": "markdown",
      "metadata": {
        "id": "g0hzEe5Ww4IE"
      },
      "source": [
        "Хорошо, теперь мы знаем, что:\n",
        "    \n",
        "    средний рост подростков в нашем наборе примерно 172 см, \n",
        "    а средний вес - примерно 57 кг.\n",
        "\n",
        "Вроде, обычный рост и вес. Так и скажем директору - что ничего особенного не нужно?\n",
        "\n",
        "Но достаточно ли мы выяснили?\n",
        "\n",
        "Возраст людей в списке не указан, там могут быть люди от 13 до 19 лет, от еще детей до почти взрослых.\n",
        "\n",
        "А мы знаем только средние значения их роста и веса."
      ]
    },
    {
      "cell_type": "code",
      "execution_count": null,
      "metadata": {
        "id": "Ti0qLMJHw4IE"
      },
      "outputs": [],
      "source": []
    },
    {
      "cell_type": "markdown",
      "metadata": {
        "id": "DbC_JuXQw4IE"
      },
      "source": [
        "## Представим себе что к нам обратились еще 2 директора из двух соседних санаториев. Они выдали нам свои аналогичные списки и попросили сделать выводы.\n",
        "\n",
        "Давайте загрузим новые данные в две дополнительные таблицы - df_1 и df_2."
      ]
    },
    {
      "cell_type": "code",
      "execution_count": null,
      "metadata": {
        "id": "OZOTXcoNw4IE"
      },
      "outputs": [],
      "source": [
        "df_1 = pd.read_csv('teens_h_w_1.csv')\n",
        "df_2 = pd.read_csv('teens_h_w_2.csv')"
      ]
    },
    {
      "cell_type": "markdown",
      "metadata": {
        "id": "bwGshTsWw4IE"
      },
      "source": [
        "Теперь посмотрим посмотрим на средние и медианы роста и веса во всех трех группах:"
      ]
    },
    {
      "cell_type": "code",
      "execution_count": null,
      "metadata": {
        "colab": {
          "base_uri": "https://localhost:8080/"
        },
        "id": "Fk1eregcw4IE",
        "outputId": "57426ff6-17f2-471a-da6a-afc4cb2e2b5d"
      },
      "outputs": [
        {
          "output_type": "stream",
          "name": "stdout",
          "text": [
            "основная таблица: среднее значение роста в см - 172.7025983971121\n",
            "первая дополнительная таблица: среднее значение роста в см - 172.94483657240212\n",
            "вторая дополнительная таблица: среднее значение роста в см - 172.09205890152657\n",
            "\n",
            "основная таблица: медиана роста в см - 172.7025983971121\n",
            "первая дополнительная таблица: медиана роста в см - 172.9142846\n",
            "вторая дополнительная таблица: медиана роста в см - 166.7276066\n",
            "\n",
            "основная таблица: среднее значение веса в кг -  57.642168793942886\n",
            "первая дополнительная таблица: среднее значение веса в кг - 57.727124582625756\n",
            "вторая дополнительная таблица: среднее значение веса в кг - 57.36167997355014\n",
            "\n",
            "основная таблица: медиана веса в кг -  57.642168793942886\n",
            "первая дополнительная таблица: медиана веса в кг - 57.720375786000005\n",
            "вторая дополнительная таблица: медиана веса в кг - 57.3726294792\n"
          ]
        }
      ],
      "source": [
        "print('основная таблица: среднее значение роста в см -', df['height_sm'].mean())\n",
        "print('первая дополнительная таблица: среднее значение роста в см -', df_1['height_sm'].mean())\n",
        "print('вторая дополнительная таблица: среднее значение роста в см -', df_2['height_sm'].mean())\n",
        "print()\n",
        "\n",
        "print('основная таблица: медиана роста в см -', df['height_sm'].mean())\n",
        "print('первая дополнительная таблица: медиана роста в см -', df_1['height_sm'].median())\n",
        "print('вторая дополнительная таблица: медиана роста в см -', df_2['height_sm'].median())\n",
        "print()\n",
        "\n",
        "print('основная таблица: среднее значение веса в кг - ', df['weight_kg'].mean())\n",
        "print('первая дополнительная таблица: среднее значение веса в кг -', df_1['weight_kg'].mean())\n",
        "print('вторая дополнительная таблица: среднее значение веса в кг -', df_2['weight_kg'].mean())\n",
        "print()\n",
        "\n",
        "print('основная таблица: медиана веса в кг - ', df['weight_kg'].mean())\n",
        "print('первая дополнительная таблица: медиана веса в кг -', df_1['weight_kg'].median())\n",
        "print('вторая дополнительная таблица: медиана веса в кг -', df_2['weight_kg'].median())\n"
      ]
    },
    {
      "cell_type": "code",
      "execution_count": null,
      "metadata": {
        "id": "kgvJyEhSw4IF"
      },
      "outputs": [],
      "source": []
    },
    {
      "cell_type": "markdown",
      "metadata": {
        "id": "8UQzacElw4IF"
      },
      "source": [
        "Обратите внимание, что средние и медианы по росту и весу в этих группах достаточно похожи.\n",
        "\n",
        "Можно ли сказать, что эти 3 группы примерно одинаковые и для всех 3х групп можно принимать одинаковые решения?"
      ]
    },
    {
      "cell_type": "code",
      "execution_count": null,
      "metadata": {
        "id": "hhzwn_asw4IF"
      },
      "outputs": [],
      "source": []
    },
    {
      "cell_type": "markdown",
      "metadata": {
        "id": "rrsEI0Eyw4IF"
      },
      "source": [
        "## Чтобы ответить на этот вопрос давайте познакомимся с таким способом отображения данных, как гистограмма.\n",
        "\n",
        "Гистограмма, это такой график, где по оси X отложены интервалы в которые попадает величина, а по оси Y - количество попаданий в эти интервалы."
      ]
    },
    {
      "cell_type": "markdown",
      "metadata": {
        "id": "mA170BLPw4IF"
      },
      "source": [
        "Например построим по нашим данным основной таблицы гистограмму роста подростков:"
      ]
    },
    {
      "cell_type": "code",
      "execution_count": null,
      "metadata": {
        "colab": {
          "base_uri": "https://localhost:8080/",
          "height": 282
        },
        "id": "ytu5hhfcw4IF",
        "outputId": "7cac2c7b-169d-4719-8ec5-cbd9f18526bb"
      },
      "outputs": [
        {
          "output_type": "execute_result",
          "data": {
            "text/plain": [
              "<matplotlib.axes._subplots.AxesSubplot at 0x7fd9f3752ed0>"
            ]
          },
          "metadata": {},
          "execution_count": 19
        },
        {
          "output_type": "display_data",
          "data": {
            "text/plain": [
              "<Figure size 432x288 with 1 Axes>"
            ],
            "image/png": "[encoded data removed]"
          },
          "metadata": {
            "needs_background": "light"
          }
        }
      ],
      "source": [
        "df['height_sm'].hist()"
      ]
    },
    {
      "cell_type": "markdown",
      "metadata": {
        "id": "T3CDU5q3w4IG"
      },
      "source": [
        "Мы видим, что в наших данных больше всего подростков имеют рост между 170 и 175 см. Таких людей около 7500.\n",
        "\n",
        "Вспомним, что среднее значение и медиана роста, которые мы считали раньше - примерно равны  172.7 см.\n",
        "\n",
        "Обратите внимание, что это значение тоже попадает в этот самый частый интервал.\n",
        "\n",
        "А с ростом 165 - 167 см уже только чуть больше 3000 человек.\n",
        "\n",
        "С ростом больше 185 см уже совсем мало людей."
      ]
    },
    {
      "cell_type": "code",
      "execution_count": null,
      "metadata": {
        "id": "Bis091x_w4IG"
      },
      "outputs": [],
      "source": []
    },
    {
      "cell_type": "markdown",
      "metadata": {
        "id": "zoh3Fohuw4IG"
      },
      "source": [
        "Теперь построим рядом гистограммы для всех 3х наборов:"
      ]
    },
    {
      "cell_type": "code",
      "execution_count": null,
      "metadata": {
        "colab": {
          "base_uri": "https://localhost:8080/",
          "height": 636
        },
        "id": "3JscCGTNw4IG",
        "outputId": "f3ca488b-d61d-496f-c489-3954a4a1b0e6"
      },
      "outputs": [
        {
          "output_type": "execute_result",
          "data": {
            "text/plain": [
              "(array([   9.,  136., 1003., 1839.,    0.,    0.,  444., 1681.,  291.,\n",
              "          34.]), array([153.1070344 , 156.88514216, 160.66324992, 164.44135768,\n",
              "        168.21946544, 171.9975732 , 175.77568096, 179.55378872,\n",
              "        183.33189648, 187.11000424, 190.888112  ]), <a list of 10 Patch objects>)"
            ]
          },
          "metadata": {},
          "execution_count": 20
        },
        {
          "output_type": "display_data",
          "data": {
            "text/plain": [
              "<Figure size 1008x648 with 3 Axes>"
            ],
            "image/png": "[encoded data removed]"
          },
          "metadata": {
            "needs_background": "light"
          }
        }
      ],
      "source": [
        "plt.figure(figsize=(14, 9))\n",
        "\n",
        "plt.subplot(2, 2, 1)\n",
        "\n",
        "plt.title(\"наш главный набор df\")\n",
        "plt.xlabel(\"рост\")\n",
        "plt.ylabel(\"частота\")\n",
        "plt.xlim(xmin=155, xmax=190)\n",
        "plt.hist(df['height_sm'], color='blue')\n",
        "\n",
        "plt.subplot(2, 2, 2)\n",
        "plt.title(\"1й дополнительный набор df_1\")\n",
        "plt.xlabel(\"рост\")\n",
        "plt.ylabel(\"частота\")\n",
        "plt.xlim(xmin=155, xmax=190)\n",
        "plt.hist(df_1['height_sm'], color='red')\n",
        "\n",
        "plt.subplot(2, 2, 3)\n",
        "plt.title(\"2й дополнительный набор df_2\")\n",
        "plt.xlabel(\"рост\")\n",
        "plt.ylabel(\"частота\")\n",
        "plt.xlim(xmin=155, xmax=190)\n",
        "plt.hist(df_2['height_sm'], color='green')\n"
      ]
    },
    {
      "cell_type": "markdown",
      "metadata": {
        "id": "5GdKPu0uw4IG"
      },
      "source": [
        "Синяя гистограмма - наш главный набор.\n",
        "По гистограмме видно, что в наборе присутствуют разные люди с ростом примерно от 155 до 190 см. \n",
        "Больше всего людей с ростом близким к среднему - около 172 см.\n",
        "Этот набор очень разнообразный.\n",
        "\n",
        "Красная гистограмма - наш 1й дополнительный набор.\n",
        "Видно, что в наборе находятся люди с очень близким ростом: от 169 до 177.\n",
        "Их явно отбирали специально, возможно по возрасту или по другому признаку.\n",
        "\n",
        "Зеленая гистограмма - наш 2й дополнительный набор.\n",
        "Это очень интересный случай.\n",
        "Обратите внимание, здесь ВООБЩЕ нет людей с ростом, близким к среднему.\n",
        "Похоже, что людей в этот набор специально отбирали.\n",
        "Возможно там есть младшие подростки и старшие - их вожатые. \n",
        "Этот набор лучше разбить на 2 по явным группам и изучать их по отдельности."
      ]
    },
    {
      "cell_type": "markdown",
      "metadata": {
        "id": "80I4o93Xw4IH"
      },
      "source": [
        "## Вывод: совсем разные  наборы данных могут иметь близкие средние значения. Нужны еще другие показатели, чтобы различать эти ситуации\n"
      ]
    },
    {
      "cell_type": "markdown",
      "metadata": {
        "id": "FRSxUF25w4IH"
      },
      "source": [
        "Давайте изучим еще несколько показателей, которые могут нам дать представление о нашем наборе данных."
      ]
    },
    {
      "cell_type": "markdown",
      "metadata": {
        "id": "RSYMJynAw4IH"
      },
      "source": [
        "Стандартное отклонение.\n",
        "Этот показатель помогает оценить насколько наши данные разные, то есть - отклоняются от среднего.\n",
        "\n",
        "Чтобы посчитать стандартное отклонение для роста в нашем наборе нужно:\n",
        "\n",
        "    для каждого человека посчитать разность между его ростом и средним ростом\n",
        "    эту разность возвести в квадрат\n",
        "    все эти квадраты разностей сложить\n",
        "    полученную сумму поделить на число людей минус 1\n",
        "    и извлечь из результата квадратный корень\n"
      ]
    },
    {
      "cell_type": "markdown",
      "metadata": {
        "id": "UuT6STr-w4IH"
      },
      "source": [
        "В библиотеке Pandas мы можем посчитать стандартное отклонение с помощью функции std() (standart deviation).\n",
        "\n",
        "Посчитаем стандартное отклонение для роста и веса в наших 3х наборах."
      ]
    },
    {
      "cell_type": "code",
      "execution_count": null,
      "metadata": {
        "colab": {
          "base_uri": "https://localhost:8080/"
        },
        "id": "aygSSEVjw4IH",
        "outputId": "566ac8f4-13e5-4100-8575-26cdee6eac93"
      },
      "outputs": [
        {
          "output_type": "stream",
          "name": "stdout",
          "text": [
            "основная таблица: стандартное отклонение роста - 4.830188370823756\n",
            "основная таблица: стандартное отклонение веса - 5.289187844011748\n"
          ]
        }
      ],
      "source": [
        "print('основная таблица: стандартное отклонение роста -', df['height_sm'].std())\n",
        "print('основная таблица: стандартное отклонение веса -', df['weight_kg'].std())"
      ]
    },
    {
      "cell_type": "code",
      "execution_count": null,
      "metadata": {
        "colab": {
          "base_uri": "https://localhost:8080/"
        },
        "id": "MYJr7XKSw4IH",
        "outputId": "4e371686-5348-4791-af93-49d7c8d4bf91"
      },
      "outputs": [
        {
          "output_type": "stream",
          "name": "stdout",
          "text": [
            "первая дополнительная таблица: стандартное отклонение роста - 2.2005659881100947\n",
            "первая дополнительная таблица: стандартное отклонение веса - 4.720393717783551\n"
          ]
        }
      ],
      "source": [
        "print('первая дополнительная таблица: стандартное отклонение роста -', df_1['height_sm'].std())\n",
        "print('первая дополнительная таблица: стандартное отклонение веса -', df_1['weight_kg'].std())"
      ]
    },
    {
      "cell_type": "markdown",
      "metadata": {
        "id": "zmxVEEYAw4II"
      },
      "source": [
        "видно что отклонения в этом наборе меньше, то есть, выборка менее разнообразна, что мы и видели на красной гистограмме."
      ]
    },
    {
      "cell_type": "code",
      "execution_count": null,
      "metadata": {
        "colab": {
          "base_uri": "https://localhost:8080/"
        },
        "id": "aoov3PAyw4II",
        "outputId": "54c407d7-5ed4-4fea-e485-802e31faa67a"
      },
      "outputs": [
        {
          "output_type": "stream",
          "name": "stdout",
          "text": [
            "вторая дополнительная таблица: стандартное отклонение роста - 8.49238180944819\n",
            "вторая дополнительная таблица: стандартное отклонение веса - 6.5530779180120575\n"
          ]
        }
      ],
      "source": [
        "print('вторая дополнительная таблица: стандартное отклонение роста -', df_2['height_sm'].std())\n",
        "print('вторая дополнительная таблица: стандартное отклонение веса -', df_2['weight_kg'].std())"
      ]
    },
    {
      "cell_type": "markdown",
      "metadata": {
        "id": "TZFmLJK-w4II"
      },
      "source": [
        "видно что отклонения в этом наборе гораздо выше. \n",
        "Это позволяет заподозрить две разных группы людей в выборке\n",
        "\n",
        "Что мы и видели на зеленой гистограмме."
      ]
    },
    {
      "cell_type": "code",
      "execution_count": null,
      "metadata": {
        "id": "vzlsRiNyw4II"
      },
      "outputs": [],
      "source": []
    },
    {
      "cell_type": "markdown",
      "metadata": {
        "id": "zEDJZejew4II"
      },
      "source": [
        "Квантили\n",
        "\n",
        "Вспомните, как мы считали медиану. Мы упорядочивали детей по росту и выбирали человека ровно посередине ряда. То есть, разбивали данные так, чтобы слева и справа было одинаковое количество участников.\n",
        "Медиану можно по другому назвать квантиль 50%\n",
        "\n",
        "Полезно еще смотреть и на другие квантили.\n",
        "Например, если мы: \n",
        "\n",
        "    выстроим детей в ряд по росту\n",
        "    разделим ряд на 4 равные части\n",
        "    и возьмем человека, отделяющего одну часть слева от 3х частей справа\n",
        "    это будет квантиль 25%.\n",
        "    А если человек, будет отделять 3 части слева от 1й части справа\n",
        "    это будет квантиль 75%\n",
        "    "
      ]
    },
    {
      "cell_type": "markdown",
      "metadata": {
        "id": "Onk7XCTQw4II"
      },
      "source": [
        "посчитаем несколько квантилей для наших данных:"
      ]
    },
    {
      "cell_type": "code",
      "execution_count": null,
      "metadata": {
        "colab": {
          "base_uri": "https://localhost:8080/"
        },
        "id": "aHP2DVCow4II",
        "outputId": "5eedac7e-d4a3-46e1-de94-1e5acdc90906"
      },
      "outputs": [
        {
          "output_type": "stream",
          "name": "stdout",
          "text": [
            "основная таблица: квантиль 50% е роста - 172.7096368\n",
            "основная таблица: квантиль 25% е роста - 169.4292268\n",
            "основная таблица: квантиль 75% е роста - 175.9532676\n"
          ]
        }
      ],
      "source": [
        "print('основная таблица: квантиль 50% е роста -', df['height_sm'].quantile(q=0.5) )\n",
        "print('основная таблица: квантиль 25% е роста -', df['height_sm'].quantile(q=0.25) )\n",
        "print('основная таблица: квантиль 75% е роста -', df['height_sm'].quantile(q=0.75))"
      ]
    },
    {
      "cell_type": "markdown",
      "metadata": {
        "id": "8V7G9C7zw4IJ"
      },
      "source": [
        "по этим цифрам видно, что половина людей имеют рост меньше 172 см,  четверть людей меньше 169 см, и четверть больше 175 см"
      ]
    },
    {
      "cell_type": "code",
      "execution_count": null,
      "metadata": {
        "id": "nVdqxTNEw4IJ"
      },
      "outputs": [],
      "source": []
    },
    {
      "cell_type": "code",
      "execution_count": null,
      "metadata": {
        "colab": {
          "base_uri": "https://localhost:8080/"
        },
        "id": "-MeX9VI3w4IJ",
        "outputId": "a3158530-ec2b-4ace-bdf4-3d421e0c6e11"
      },
      "outputs": [
        {
          "output_type": "stream",
          "name": "stdout",
          "text": [
            "первая дополнительная таблица: квантиль 50% е роста - 172.9142846\n",
            "первая дополнительная таблица: квантиль 25% е роста - 171.1157868\n",
            "первая дополнительная таблица: квантиль 75% е роста - 174.76662405\n"
          ]
        }
      ],
      "source": [
        "print('первая дополнительная таблица: квантиль 50% е роста -', df_1['height_sm'].quantile(q=0.5) )\n",
        "print('первая дополнительная таблица: квантиль 25% е роста -', df_1['height_sm'].quantile(q=0.25) )\n",
        "print('первая дополнительная таблица: квантиль 75% е роста -', df_1['height_sm'].quantile(q=0.75))"
      ]
    },
    {
      "cell_type": "markdown",
      "metadata": {
        "id": "uUlL7uLAw4IJ"
      },
      "source": [
        "тут видно, что люди близки по росту, и все 3 квантиля близки друг к другу.\n",
        "Что мы и видели на красной гистограмме."
      ]
    },
    {
      "cell_type": "code",
      "execution_count": null,
      "metadata": {
        "id": "0DrraHgOw4IJ"
      },
      "outputs": [],
      "source": []
    },
    {
      "cell_type": "code",
      "execution_count": null,
      "metadata": {
        "colab": {
          "base_uri": "https://localhost:8080/"
        },
        "id": "LwjSjS5yw4IJ",
        "outputId": "bb6c4384-3192-4b9c-fa3f-e14be4ed0f64"
      },
      "outputs": [
        {
          "output_type": "stream",
          "name": "stdout",
          "text": [
            "вторая дополнительная таблица: квантиль 50% е роста - 166.7276066\n",
            "вторая дополнительная таблица: квантиль 25% е роста - 164.8694696\n",
            "вторая дополнительная таблица: квантиль 75% е роста - 180.4537666\n"
          ]
        }
      ],
      "source": [
        "print('вторая дополнительная таблица: квантиль 50% е роста -', df_2['height_sm'].quantile(q=0.5))\n",
        "print('вторая дополнительная таблица: квантиль 25% е роста -', df_2['height_sm'].quantile(q=0.25))\n",
        "print('вторая дополнительная таблица: квантиль 75% е роста -', df_2['height_sm'].quantile(q=0.75))"
      ]
    },
    {
      "cell_type": "markdown",
      "metadata": {
        "id": "w1yG7pl3w4IK"
      },
      "source": [
        "в этой выборке самое примечательное, что 3й квантиль сильно больше среднего, что заставляет заподозрить неоднородность в данных."
      ]
    },
    {
      "cell_type": "code",
      "execution_count": null,
      "metadata": {
        "id": "pkwJQe4dw4IK"
      },
      "outputs": [],
      "source": []
    },
    {
      "cell_type": "markdown",
      "metadata": {
        "id": "85I8s20pw4IK"
      },
      "source": [
        "Дополнительные характеристики данных."
      ]
    },
    {
      "cell_type": "markdown",
      "metadata": {
        "id": "rADOxXBBw4IK"
      },
      "source": [
        "коэффициент ассиметрии (перекос). Показывает, симметрично ли распределение относительно среднего. Если перекос > 0, то на гистограмме мы увидим длинный хвост вправо, наоборот - влево\n"
      ]
    },
    {
      "cell_type": "markdown",
      "metadata": {
        "id": "9s0IEss6w4IK"
      },
      "source": [
        "Давайте представим, что в из нашей группы  отобрали детей для баскетбольной секции.\n",
        "\n",
        "Они прошли отбор по росту, и в секцию попали только люди с ростом больше 180 см\n",
        "\n",
        "То есть в наших данных есть много людей с разным ростом выше 180 см и нет людей с ростом ниже 180 см.\n",
        "\n",
        "При этом, по прежнему, больше всего людей с ростом около 180 см.\n",
        "\n",
        "Как вы думаете, какой будет перекос на гистограмме?\n",
        "\n",
        "Создадим выборку:"
      ]
    },
    {
      "cell_type": "code",
      "execution_count": null,
      "metadata": {
        "id": "1NUVDiRXw4IL"
      },
      "outputs": [],
      "source": [
        "df_basket = df[df['height_sm'] > 180]"
      ]
    },
    {
      "cell_type": "code",
      "source": [
        "df_basket['height_sm'].mean()"
      ],
      "metadata": {
        "colab": {
          "base_uri": "https://localhost:8080/"
        },
        "id": "qZ7uT5K5O_2_",
        "outputId": "a82594c5-aa0d-4bfd-97d7-3f8e8bb64b09"
      },
      "execution_count": null,
      "outputs": [
        {
          "output_type": "execute_result",
          "data": {
            "text/plain": [
              "182.05246199720534"
            ]
          },
          "metadata": {},
          "execution_count": 28
        }
      ]
    },
    {
      "cell_type": "markdown",
      "metadata": {
        "id": "AhB5OHlgw4IL"
      },
      "source": [
        "теперь посмотрим на гистограмму:"
      ]
    },
    {
      "cell_type": "code",
      "execution_count": null,
      "metadata": {
        "colab": {
          "base_uri": "https://localhost:8080/",
          "height": 654
        },
        "id": "DQ6fHXJaw4IL",
        "outputId": "510adc95-afb9-4110-91cc-957b006069ad"
      },
      "outputs": [
        {
          "output_type": "execute_result",
          "data": {
            "text/plain": [
              "(array([646., 395., 269., 146.,  88.,  52.,  22.,  17.,   7.,   4.]),\n",
              " array([180.0000718 , 181.08887582, 182.17767984, 183.26648386,\n",
              "        184.35528788, 185.4440919 , 186.53289592, 187.62169994,\n",
              "        188.71050396, 189.79930798, 190.888112  ]),\n",
              " <a list of 10 Patch objects>)"
            ]
          },
          "metadata": {},
          "execution_count": 29
        },
        {
          "output_type": "display_data",
          "data": {
            "text/plain": [
              "<Figure size 1008x648 with 1 Axes>"
            ],
            "image/png": "[encoded data removed]"
          },
          "metadata": {
            "needs_background": "light"
          }
        }
      ],
      "source": [
        "plt.figure(figsize=(14, 9))\n",
        "\n",
        "\n",
        "plt.hist(df_basket['height_sm'], color='blue')\n",
        "plt.title(\"наш баскетбольный набор df_basket\")\n",
        "plt.xlabel(\"рост\")\n",
        "plt.ylabel(\"частота\")\n",
        "plt.hist(df_basket['height_sm'])"
      ]
    },
    {
      "cell_type": "markdown",
      "metadata": {
        "id": "cflANMJnw4IL"
      },
      "source": [
        "мы видим сильный правый перекос, и действительно, перекос больше 0."
      ]
    },
    {
      "cell_type": "code",
      "execution_count": null,
      "metadata": {
        "colab": {
          "base_uri": "https://localhost:8080/"
        },
        "id": "BnytzuJHw4IL",
        "outputId": "cc411a8d-4f89-448e-e10a-b7ec9297d23d"
      },
      "outputs": [
        {
          "output_type": "execute_result",
          "data": {
            "text/plain": [
              "1.4368712109307635"
            ]
          },
          "metadata": {},
          "execution_count": 30
        }
      ],
      "source": [
        "df_basket['height_sm'].skew()"
      ]
    },
    {
      "cell_type": "markdown",
      "metadata": {
        "id": "jKsJzu5Tw4IL"
      },
      "source": [
        "тогда как в основном наборе перекос близок к 0."
      ]
    },
    {
      "cell_type": "code",
      "execution_count": null,
      "metadata": {
        "colab": {
          "base_uri": "https://localhost:8080/"
        },
        "id": "hCs2KIirw4IL",
        "outputId": "d1629018-7f14-498f-b928-84208e957c47"
      },
      "outputs": [
        {
          "output_type": "execute_result",
          "data": {
            "text/plain": [
              "-0.005709810553796883"
            ]
          },
          "metadata": {},
          "execution_count": 31
        }
      ],
      "source": [
        "df['height_sm'].skew()"
      ]
    },
    {
      "cell_type": "code",
      "execution_count": null,
      "metadata": {
        "id": "9vpk5elqw4IM"
      },
      "outputs": [],
      "source": []
    },
    {
      "cell_type": "markdown",
      "metadata": {
        "id": "rp4askTqw4IM"
      },
      "source": [
        "эксцесс показывает вытянута ли гистограмма вверх\n",
        "\n",
        "Если он > 0, то распределение является слишком высоким («островершинным»)\n",
        "\n",
        "Если же < 0  – то слишком низким и пологим. \n",
        "\n",
        "И чем больше он  по модулю, тем «аномальнее» высота в ту или иную сторону.\n",
        "\n",
        "Видно, что наша исходная выборка бм нормальна, а выборка с номером 1 - слишком пологая"
      ]
    },
    {
      "cell_type": "code",
      "execution_count": null,
      "metadata": {
        "colab": {
          "base_uri": "https://localhost:8080/",
          "height": 369
        },
        "id": "2Fp71vKuw4IM",
        "outputId": "ba4c5dac-6c56-4e2a-f145-a20852eaf761"
      },
      "outputs": [
        {
          "output_type": "execute_result",
          "data": {
            "text/plain": [
              "(array([1323., 1393., 1566., 1581., 1691., 1588., 1623., 1458., 1351.,\n",
              "        1188.]), array([169.0002208 , 169.79980518, 170.59938956, 171.39897394,\n",
              "        172.19855832, 172.9981427 , 173.79772708, 174.59731146,\n",
              "        175.39689584, 176.19648022, 176.9960646 ]), <a list of 10 Patch objects>)"
            ]
          },
          "metadata": {},
          "execution_count": 32
        },
        {
          "output_type": "display_data",
          "data": {
            "text/plain": [
              "<Figure size 1008x648 with 2 Axes>"
            ],
            "image/png": "[encoded data removed]"
          },
          "metadata": {
            "needs_background": "light"
          }
        }
      ],
      "source": [
        "plt.figure(figsize=(14, 9))\n",
        "\n",
        "plt.subplot(2, 2, 1)\n",
        "\n",
        "plt.hist(df['height_sm'], color='blue')\n",
        "plt.title(\"наш главный набор df\")\n",
        "plt.xlabel(\"рост\")\n",
        "plt.ylabel(\"частота\")\n",
        "plt.hist(df['height_sm'])\n",
        "\n",
        "plt.subplot(2, 2, 2)\n",
        "plt.title(\"1й дополнительный набор df_1\")\n",
        "plt.xlabel(\"рост\")\n",
        "plt.ylabel(\"частота\")\n",
        "plt.hist(df_1['height_sm'], color='red')\n"
      ]
    },
    {
      "cell_type": "code",
      "execution_count": null,
      "metadata": {
        "colab": {
          "base_uri": "https://localhost:8080/"
        },
        "id": "W-bWoBk_w4IM",
        "outputId": "4e0a9e52-48ba-4e4a-c70d-8928d7d9eac7"
      },
      "outputs": [
        {
          "output_type": "stream",
          "name": "stdout",
          "text": [
            "эксцесс основного набора -  -0.03508983378557495\n",
            "эксцесс дополнительного набора -  -1.0952046419430972\n"
          ]
        }
      ],
      "source": [
        "print('эксцесс основного набора - ',df['height_sm'].kurt())\n",
        "print('эксцесс дополнительного набора - ' , df_1['height_sm'].kurt())"
      ]
    },
    {
      "cell_type": "markdown",
      "metadata": {
        "id": "79AuhQrbw4IM"
      },
      "source": [
        "Асимметрия характеризует меру скошенности графика влево / вправо, а эксцесс –  меру его высоты.\n",
        "\n",
        "\n",
        "Слишком большие по модулю эксцесс и перекос заставляют заподозрить неоднородность и искусственную смещенность в данных."
      ]
    },
    {
      "cell_type": "code",
      "execution_count": null,
      "metadata": {
        "id": "n0rQw9d0w4IM"
      },
      "outputs": [],
      "source": []
    },
    {
      "cell_type": "markdown",
      "metadata": {
        "id": "Ww1abEY_w4IM"
      },
      "source": [
        "## Что еще мы можем узнать по этим данным?"
      ]
    },
    {
      "cell_type": "markdown",
      "metadata": {
        "id": "o0YGn3Slw4IN"
      },
      "source": [
        "Как вы думаете, зависит ли вес человека от его роста?\n",
        "\n",
        "Вернемся к нашей основной таблице и построим точечную диаграмму зависимости веса от роста по нашим данным."
      ]
    },
    {
      "cell_type": "code",
      "execution_count": null,
      "metadata": {
        "colab": {
          "base_uri": "https://localhost:8080/",
          "height": 313
        },
        "id": "bEnwFtCpw4IN",
        "outputId": "09b3c840-05f4-4e3a-96d7-ecae5cd72445"
      },
      "outputs": [
        {
          "output_type": "execute_result",
          "data": {
            "text/plain": [
              "<matplotlib.axes._subplots.AxesSubplot at 0x7fd9f2deea90>"
            ]
          },
          "metadata": {},
          "execution_count": 34
        },
        {
          "output_type": "display_data",
          "data": {
            "text/plain": [
              "<Figure size 432x288 with 1 Axes>"
            ],
            "image/png": "[encoded data removed]"
          },
          "metadata": {
            "needs_background": "light"
          }
        }
      ],
      "source": [
        "df.plot.scatter(x='height_sm', y='weight_kg', title='Зависимость роста от веса')"
      ]
    },
    {
      "cell_type": "markdown",
      "metadata": {
        "id": "ZrFiCTxHw4IN"
      },
      "source": [
        "Прослеживается явная линейная зависимость веса от роста, то есть, чем больше рост, тем более-менее, больше вес человека.\n",
        "\n",
        "Это вполне естественно."
      ]
    },
    {
      "cell_type": "code",
      "execution_count": null,
      "metadata": {
        "id": "utNkHdg0w4IN"
      },
      "outputs": [],
      "source": []
    },
    {
      "cell_type": "markdown",
      "metadata": {
        "id": "weKRcrPCw4IN"
      },
      "source": [
        "Как выразить такие зависимости в числе?\n",
        "\n",
        "Для этого существует еще одно понятие - коэффициент корреляции или просто корреляция.\n",
        "\n",
        "Коэффициент корреляции выражает линейную зависимость одной величины от другой.\n",
        "\n",
        "Чем выше по модулю корреляция, чем больше выражена линейная зависимость.\n",
        "\n",
        "Если корреляция положительна, то зависимость прямая (чем больше одна величина, тем больше и другая). Например чем больше времени тренируешься, тем выше результаты.\n",
        "\n",
        "Если корреляция отрицательна, то зависимость обратная. Например, чем больше врешь, тем меньше тебе верят.\n",
        "\n",
        "Самая высокая корреляция между величинами равна 1. Это значит, что 2 величины зависят друг от друга полностью линейно, и график зависимости является прямой.\n",
        "\n",
        "Допустим, мы хотим посчитать коэффициент корреляции между величинами X и Y в выборке.\n",
        "Это сделать можно по формуле (см презентацию)\n"
      ]
    },
    {
      "cell_type": "markdown",
      "metadata": {
        "id": "V_Sk--kSw4IN"
      },
      "source": [
        "Формула непростая, но, к счастью, библиотека Pandas может сделать расчет за нас:"
      ]
    },
    {
      "cell_type": "code",
      "execution_count": null,
      "metadata": {
        "colab": {
          "base_uri": "https://localhost:8080/",
          "height": 206
        },
        "id": "2kwecbwKw4IO",
        "outputId": "a82a0eb3-8905-43b7-c534-b8f907865033"
      },
      "outputs": [
        {
          "output_type": "execute_result",
          "data": {
            "text/plain": [
              "              Index    Height    Weight  height_sm  weight_kg\n",
              "Index      1.000000  0.009657 -0.007270   0.009657  -0.007270\n",
              "Height     0.009657  1.000000  0.502852   1.000000   0.502852\n",
              "Weight    -0.007270  0.502852  1.000000   0.502852   1.000000\n",
              "height_sm  0.009657  1.000000  0.502852   1.000000   0.502852\n",
              "weight_kg -0.007270  0.502852  1.000000   0.502852   1.000000"
            ],
            "text/html": [
              "\n",
              "  <div id=\"df-c1d77da2-56e7-42ff-b1df-bdaa240fb216\">\n",
              "    <div class=\"colab-df-container\">\n",
              "      <div>\n",
              "<style scoped>\n",
              "    .dataframe tbody tr th:only-of-type {\n",
              "        vertical-align: middle;\n",
              "    }\n",
              "\n",
              "    .dataframe tbody tr th {\n",
              "        vertical-align: top;\n",
              "    }\n",
              "\n",
              "    .dataframe thead th {\n",
              "        text-align: right;\n",
              "    }\n",
              "</style>\n",
              "<table border=\"1\" class=\"dataframe\">\n",
              "  <thead>\n",
              "    <tr style=\"text-align: right;\">\n",
              "      <th></th>\n",
              "      <th>Index</th>\n",
              "      <th>Height</th>\n",
              "      <th>Weight</th>\n",
              "      <th>height_sm</th>\n",
              "      <th>weight_kg</th>\n",
              "    </tr>\n",
              "  </thead>\n",
              "  <tbody>\n",
              "    <tr>\n",
              "      <th>Index</th>\n",
              "      <td>1.000000</td>\n",
              "      <td>0.009657</td>\n",
              "      <td>-0.007270</td>\n",
              "      <td>0.009657</td>\n",
              "      <td>-0.007270</td>\n",
              "    </tr>\n",
              "    <tr>\n",
              "      <th>Height</th>\n",
              "      <td>0.009657</td>\n",
              "      <td>1.000000</td>\n",
              "      <td>0.502852</td>\n",
              "      <td>1.000000</td>\n",
              "      <td>0.502852</td>\n",
              "    </tr>\n",
              "    <tr>\n",
              "      <th>Weight</th>\n",
              "      <td>-0.007270</td>\n",
              "      <td>0.502852</td>\n",
              "      <td>1.000000</td>\n",
              "      <td>0.502852</td>\n",
              "      <td>1.000000</td>\n",
              "    </tr>\n",
              "    <tr>\n",
              "      <th>height_sm</th>\n",
              "      <td>0.009657</td>\n",
              "      <td>1.000000</td>\n",
              "      <td>0.502852</td>\n",
              "      <td>1.000000</td>\n",
              "      <td>0.502852</td>\n",
              "    </tr>\n",
              "    <tr>\n",
              "      <th>weight_kg</th>\n",
              "      <td>-0.007270</td>\n",
              "      <td>0.502852</td>\n",
              "      <td>1.000000</td>\n",
              "      <td>0.502852</td>\n",
              "      <td>1.000000</td>\n",
              "    </tr>\n",
              "  </tbody>\n",
              "</table>\n",
              "</div>\n",
              "      <button class=\"colab-df-convert\" onclick=\"convertToInteractive('df-c1d77da2-56e7-42ff-b1df-bdaa240fb216')\"\n",
              "              title=\"Convert this dataframe to an interactive table.\"\n",
              "              style=\"display:none;\">\n",
              "        \n",
              "  <svg xmlns=\"http://www.w3.org/2000/svg\" height=\"24px\"viewBox=\"0 0 24 24\"\n",
              "       width=\"24px\">\n",
              "    <path d=\"M0 0h24v24H0V0z\" fill=\"none\"/>\n",
              "    <path d=\"M18.56 5.44l.94 2.06.94-2.06 2.06-.94-2.06-.94-.94-2.06-.94 2.06-2.06.94zm-11 1L8.5 8.5l.94-2.06 2.06-.94-2.06-.94L8.5 2.5l-.94 2.06-2.06.94zm10 10l.94 2.06.94-2.06 2.06-.94-2.06-.94-.94-2.06-.94 2.06-2.06.94z\"/><path d=\"M17.41 7.96l-1.37-1.37c-.4-.4-.92-.59-1.43-.59-.52 0-1.04.2-1.43.59L10.3 9.45l-7.72 7.72c-.78.78-.78 2.05 0 2.83L4 21.41c.39.39.9.59 1.41.59.51 0 1.02-.2 1.41-.59l7.78-7.78 2.81-2.81c.8-.78.8-2.07 0-2.86zM5.41 20L4 18.59l7.72-7.72 1.47 1.35L5.41 20z\"/>\n",
              "  </svg>\n",
              "      </button>\n",
              "      \n",
              "  <style>\n",
              "    .colab-df-container {\n",
              "      display:flex;\n",
              "      flex-wrap:wrap;\n",
              "      gap: 12px;\n",
              "    }\n",
              "\n",
              "    .colab-df-convert {\n",
              "      background-color: #E8F0FE;\n",
              "      border: none;\n",
              "      border-radius: 50%;\n",
              "      cursor: pointer;\n",
              "      display: none;\n",
              "      fill: #1967D2;\n",
              "      height: 32px;\n",
              "      padding: 0 0 0 0;\n",
              "      width: 32px;\n",
              "    }\n",
              "\n",
              "    .colab-df-convert:hover {\n",
              "      background-color: #E2EBFA;\n",
              "      box-shadow: 0px 1px 2px rgba(60, 64, 67, 0.3), 0px 1px 3px 1px rgba(60, 64, 67, 0.15);\n",
              "      fill: #174EA6;\n",
              "    }\n",
              "\n",
              "    [theme=dark] .colab-df-convert {\n",
              "      background-color: #3B4455;\n",
              "      fill: #D2E3FC;\n",
              "    }\n",
              "\n",
              "    [theme=dark] .colab-df-convert:hover {\n",
              "      background-color: #434B5C;\n",
              "      box-shadow: 0px 1px 3px 1px rgba(0, 0, 0, 0.15);\n",
              "      filter: drop-shadow(0px 1px 2px rgba(0, 0, 0, 0.3));\n",
              "      fill: #FFFFFF;\n",
              "    }\n",
              "  </style>\n",
              "\n",
              "      <script>\n",
              "        const buttonEl =\n",
              "          document.querySelector('#df-c1d77da2-56e7-42ff-b1df-bdaa240fb216 button.colab-df-convert');\n",
              "        buttonEl.style.display =\n",
              "          google.colab.kernel.accessAllowed ? 'block' : 'none';\n",
              "\n",
              "        async function convertToInteractive(key) {\n",
              "          const element = document.querySelector('#df-c1d77da2-56e7-42ff-b1df-bdaa240fb216');\n",
              "          const dataTable =\n",
              "            await google.colab.kernel.invokeFunction('convertToInteractive',\n",
              "                                                     [key], {});\n",
              "          if (!dataTable) return;\n",
              "\n",
              "          const docLinkHtml = 'Like what you see? Visit the ' +\n",
              "            '<a target=\"_blank\" href=https://colab.research.google.com/notebooks/data_table.ipynb>data table notebook</a>'\n",
              "            + ' to learn more about interactive tables.';\n",
              "          element.innerHTML = '';\n",
              "          dataTable['output_type'] = 'display_data';\n",
              "          await google.colab.output.renderOutput(dataTable, element);\n",
              "          const docLink = document.createElement('div');\n",
              "          docLink.innerHTML = docLinkHtml;\n",
              "          element.appendChild(docLink);\n",
              "        }\n",
              "      </script>\n",
              "    </div>\n",
              "  </div>\n",
              "  "
            ]
          },
          "metadata": {},
          "execution_count": 35
        }
      ],
      "source": [
        "df.corr()"
      ]
    },
    {
      "cell_type": "markdown",
      "metadata": {
        "id": "tiuM2VLVw4IO"
      },
      "source": [
        "Посмотрите на матрицу корреляций.\n",
        "\n",
        "В каждой ее ячейке записана корреляция между величиной в строке и величиной в столбце.\n",
        "\n",
        "По диагонали матрицы стоят 1. Это естественно, так как величина зависит линейно от самой себя.\n",
        "\n",
        "Между индексом и всеми другими величинами корреляция очень низкая, естественно, между номером человека в выборке и его ростом и весом нет никакой зависимости.\n",
        "\n",
        "Между ростом человека в дюймах и его ростом в сантиметрах корреляция равна 1. Это тоже естественно, так как ростом в сантиметрах пересчитывается из роста в дюймах по линейной формуле.\n",
        "\n",
        "Тоже самое касается веса в фунтах и килограммах.\n",
        "\n",
        "А вот корреляции между ростом и весом равны примерно 0.5. Это значит, что между этими величинами существует выраженная, но не чистая линейная зависимость.\n",
        "\n",
        "Матрица корреляций очень помогает в исследовании данных, мы в дальнейшем в этом убедимся.\n",
        "\n"
      ]
    },
    {
      "cell_type": "code",
      "execution_count": null,
      "metadata": {
        "id": "VJ0CmnnNw4IO"
      },
      "outputs": [],
      "source": []
    },
    {
      "cell_type": "markdown",
      "metadata": {
        "id": "ME1fsi_ew4IO"
      },
      "source": [
        "Более удобно смотреть на матрицу корреляций в виде тепловой карты. \n",
        "\n",
        "Интенсивность цвета отображает величину корреляции, красный тон говорит о положительной корреляции, а синий - об отрицательной."
      ]
    },
    {
      "cell_type": "code",
      "execution_count": null,
      "metadata": {
        "colab": {
          "base_uri": "https://localhost:8080/",
          "height": 342
        },
        "id": "5ocl1leMw4IO",
        "outputId": "bd70baa9-f7c8-41af-c121-fa7513ced837"
      },
      "outputs": [
        {
          "output_type": "execute_result",
          "data": {
            "text/plain": [
              "<matplotlib.axes._subplots.AxesSubplot at 0x7fd9f2d60f50>"
            ]
          },
          "metadata": {},
          "execution_count": 36
        },
        {
          "output_type": "display_data",
          "data": {
            "text/plain": [
              "<Figure size 504x360 with 2 Axes>"
            ],
            "image/png": "[encoded data removed]"
          },
          "metadata": {
            "needs_background": "light"
          }
        }
      ],
      "source": [
        "correlation = df.corr()\n",
        "plt.figure(figsize=(7, 5))\n",
        "plt.tight_layout()\n",
        "sns.heatmap(correlation , annot = True, cmap = 'coolwarm')"
      ]
    },
    {
      "cell_type": "markdown",
      "metadata": {
        "id": "kyQRqnTow4IO"
      },
      "source": [
        "## Итак, мы посчитали по всем жильцам санатория для их роста и веса средние значения, медианы, максимумы, минимумы, стандартные отклонения и квантили. Посмотрели на гистограмму. \n"
      ]
    },
    {
      "cell_type": "markdown",
      "metadata": {
        "id": "1scKv95ow4IP"
      },
      "source": [
        "## Однако, что же нам сказать директору? Ему нужны выводы."
      ]
    },
    {
      "cell_type": "code",
      "execution_count": null,
      "metadata": {
        "id": "O8_PFbEXw4IP"
      },
      "outputs": [],
      "source": []
    },
    {
      "cell_type": "markdown",
      "metadata": {
        "id": "GFzt3zvOw4IP"
      },
      "source": [
        "Можно ли, зная рост и вес человека, понять, есть ли у него лишний вес, или, наоборот, недостаток веса?\n",
        "Это сложно, так как, очевидно, здоровый человек будет весить тем больше, чем он выше, но сложно по 2м цифрам понять, у него есть лишний вес, или еще нет.\n",
        "\n",
        "А что будет, если мы разделим вес человека на его рост?\n",
        "Или, еще лучше, как принято - разделим вес человека на квадрат его роста в метрах.\n",
        "\n",
        "Мы, как раз, получим показатель, который будет отражать как вес распределяется по росту. \n",
        "\n",
        "Этот показатель называется ИМТ - индекс массы тела. По английски он называется body mass index (BMI). \n",
        "\n",
        "Давайте добавим новую колонку с BMI в наши данные."
      ]
    },
    {
      "cell_type": "code",
      "execution_count": null,
      "metadata": {
        "id": "wseQc1_pw4IP"
      },
      "outputs": [],
      "source": [
        "df['BMI'] = df['weight_kg']/(df['height_sm']/100 * df['height_sm']/100)"
      ]
    },
    {
      "cell_type": "markdown",
      "metadata": {
        "id": "0-5cnij5w4IP"
      },
      "source": [
        "Теперь давайте спросим гугл о том, какие есть нормы на индекс массы тела:\n",
        "\n",
        "Информация есть только для взрослых, нормы здоровья подростков зависят еще от пола и возраста. Но так как у нас этой информации нет, будем пользоваться этими нормами:\n",
        "\n",
        "\n",
        "Расчет и значение показателей ИМТ\n",
        "\n",
        "    Недостаточный вес: ИМТ менее 18,5. \n",
        "    Нормальный вес: ИМТ от 18,5 до 24,9. \n",
        "    Избыточный вес: ИМТ от 25 до 29,9. \n",
        "    Ожирение: ИМТ от 30 и выше."
      ]
    },
    {
      "cell_type": "markdown",
      "metadata": {
        "id": "Q5IaomN8w4IP"
      },
      "source": [
        "Давайте добавим эти градации в нашу таблицу. Назовем колонку - weight indicator"
      ]
    },
    {
      "cell_type": "code",
      "execution_count": null,
      "metadata": {
        "id": "cjn7eUSGw4IP"
      },
      "outputs": [],
      "source": [
        "df.loc[df['BMI'] < 18.5, 'weight indicator'] = 'low'\n",
        "df.loc[(df['BMI'] >= 18.5) & (df['BMI'] < 24.9), 'weight indicator'] = 'norm'\n",
        "df.loc[(df['BMI'] >= 24.9) & (df['BMI'] < 29.9), 'weight indicator'] = 'high'\n",
        "df.loc[df['BMI'] > 29.9, 'weight indicator'] = 'fat'"
      ]
    },
    {
      "cell_type": "markdown",
      "metadata": {
        "id": "hX2WYt0Pw4IQ"
      },
      "source": [
        "Посмотрим на колонку индикатора и на гистограмму по ней.\n"
      ]
    },
    {
      "cell_type": "code",
      "execution_count": null,
      "metadata": {
        "colab": {
          "base_uri": "https://localhost:8080/",
          "height": 206
        },
        "id": "YMKxCG28w4IQ",
        "outputId": "8008e0e7-c513-4911-a848-96c2f9fc2d17"
      },
      "outputs": [
        {
          "output_type": "execute_result",
          "data": {
            "text/plain": [
              "   Index    Height    Weight   height_sm  weight_kg        BMI  \\\n",
              "0      1  65.78331  112.9925  167.089607  51.252494  18.357609   \n",
              "1      2  71.51521  136.4873  181.648633  61.909547  18.762615   \n",
              "2      3  69.39874  153.0269  176.272800  69.411778  22.338940   \n",
              "3      4  68.21660  142.3354  173.270164  64.562199  21.504569   \n",
              "4      5  67.78781  144.2971  172.181037  65.452010  22.077625   \n",
              "\n",
              "  weight indicator  \n",
              "0              low  \n",
              "1             norm  \n",
              "2             norm  \n",
              "3             norm  \n",
              "4             norm  "
            ],
            "text/html": [
              "\n",
              "  <div id=\"df-0d59b1ce-dfd7-4331-93ec-177ecd9801d4\">\n",
              "    <div class=\"colab-df-container\">\n",
              "      <div>\n",
              "<style scoped>\n",
              "    .dataframe tbody tr th:only-of-type {\n",
              "        vertical-align: middle;\n",
              "    }\n",
              "\n",
              "    .dataframe tbody tr th {\n",
              "        vertical-align: top;\n",
              "    }\n",
              "\n",
              "    .dataframe thead th {\n",
              "        text-align: right;\n",
              "    }\n",
              "</style>\n",
              "<table border=\"1\" class=\"dataframe\">\n",
              "  <thead>\n",
              "    <tr style=\"text-align: right;\">\n",
              "      <th></th>\n",
              "      <th>Index</th>\n",
              "      <th>Height</th>\n",
              "      <th>Weight</th>\n",
              "      <th>height_sm</th>\n",
              "      <th>weight_kg</th>\n",
              "      <th>BMI</th>\n",
              "      <th>weight indicator</th>\n",
              "    </tr>\n",
              "  </thead>\n",
              "  <tbody>\n",
              "    <tr>\n",
              "      <th>0</th>\n",
              "      <td>1</td>\n",
              "      <td>65.78331</td>\n",
              "      <td>112.9925</td>\n",
              "      <td>167.089607</td>\n",
              "      <td>51.252494</td>\n",
              "      <td>18.357609</td>\n",
              "      <td>low</td>\n",
              "    </tr>\n",
              "    <tr>\n",
              "      <th>1</th>\n",
              "      <td>2</td>\n",
              "      <td>71.51521</td>\n",
              "      <td>136.4873</td>\n",
              "      <td>181.648633</td>\n",
              "      <td>61.909547</td>\n",
              "      <td>18.762615</td>\n",
              "      <td>norm</td>\n",
              "    </tr>\n",
              "    <tr>\n",
              "      <th>2</th>\n",
              "      <td>3</td>\n",
              "      <td>69.39874</td>\n",
              "      <td>153.0269</td>\n",
              "      <td>176.272800</td>\n",
              "      <td>69.411778</td>\n",
              "      <td>22.338940</td>\n",
              "      <td>norm</td>\n",
              "    </tr>\n",
              "    <tr>\n",
              "      <th>3</th>\n",
              "      <td>4</td>\n",
              "      <td>68.21660</td>\n",
              "      <td>142.3354</td>\n",
              "      <td>173.270164</td>\n",
              "      <td>64.562199</td>\n",
              "      <td>21.504569</td>\n",
              "      <td>norm</td>\n",
              "    </tr>\n",
              "    <tr>\n",
              "      <th>4</th>\n",
              "      <td>5</td>\n",
              "      <td>67.78781</td>\n",
              "      <td>144.2971</td>\n",
              "      <td>172.181037</td>\n",
              "      <td>65.452010</td>\n",
              "      <td>22.077625</td>\n",
              "      <td>norm</td>\n",
              "    </tr>\n",
              "  </tbody>\n",
              "</table>\n",
              "</div>\n",
              "      <button class=\"colab-df-convert\" onclick=\"convertToInteractive('df-0d59b1ce-dfd7-4331-93ec-177ecd9801d4')\"\n",
              "              title=\"Convert this dataframe to an interactive table.\"\n",
              "              style=\"display:none;\">\n",
              "        \n",
              "  <svg xmlns=\"http://www.w3.org/2000/svg\" height=\"24px\"viewBox=\"0 0 24 24\"\n",
              "       width=\"24px\">\n",
              "    <path d=\"M0 0h24v24H0V0z\" fill=\"none\"/>\n",
              "    <path d=\"M18.56 5.44l.94 2.06.94-2.06 2.06-.94-2.06-.94-.94-2.06-.94 2.06-2.06.94zm-11 1L8.5 8.5l.94-2.06 2.06-.94-2.06-.94L8.5 2.5l-.94 2.06-2.06.94zm10 10l.94 2.06.94-2.06 2.06-.94-2.06-.94-.94-2.06-.94 2.06-2.06.94z\"/><path d=\"M17.41 7.96l-1.37-1.37c-.4-.4-.92-.59-1.43-.59-.52 0-1.04.2-1.43.59L10.3 9.45l-7.72 7.72c-.78.78-.78 2.05 0 2.83L4 21.41c.39.39.9.59 1.41.59.51 0 1.02-.2 1.41-.59l7.78-7.78 2.81-2.81c.8-.78.8-2.07 0-2.86zM5.41 20L4 18.59l7.72-7.72 1.47 1.35L5.41 20z\"/>\n",
              "  </svg>\n",
              "      </button>\n",
              "      \n",
              "  <style>\n",
              "    .colab-df-container {\n",
              "      display:flex;\n",
              "      flex-wrap:wrap;\n",
              "      gap: 12px;\n",
              "    }\n",
              "\n",
              "    .colab-df-convert {\n",
              "      background-color: #E8F0FE;\n",
              "      border: none;\n",
              "      border-radius: 50%;\n",
              "      cursor: pointer;\n",
              "      display: none;\n",
              "      fill: #1967D2;\n",
              "      height: 32px;\n",
              "      padding: 0 0 0 0;\n",
              "      width: 32px;\n",
              "    }\n",
              "\n",
              "    .colab-df-convert:hover {\n",
              "      background-color: #E2EBFA;\n",
              "      box-shadow: 0px 1px 2px rgba(60, 64, 67, 0.3), 0px 1px 3px 1px rgba(60, 64, 67, 0.15);\n",
              "      fill: #174EA6;\n",
              "    }\n",
              "\n",
              "    [theme=dark] .colab-df-convert {\n",
              "      background-color: #3B4455;\n",
              "      fill: #D2E3FC;\n",
              "    }\n",
              "\n",
              "    [theme=dark] .colab-df-convert:hover {\n",
              "      background-color: #434B5C;\n",
              "      box-shadow: 0px 1px 3px 1px rgba(0, 0, 0, 0.15);\n",
              "      filter: drop-shadow(0px 1px 2px rgba(0, 0, 0, 0.3));\n",
              "      fill: #FFFFFF;\n",
              "    }\n",
              "  </style>\n",
              "\n",
              "      <script>\n",
              "        const buttonEl =\n",
              "          document.querySelector('#df-0d59b1ce-dfd7-4331-93ec-177ecd9801d4 button.colab-df-convert');\n",
              "        buttonEl.style.display =\n",
              "          google.colab.kernel.accessAllowed ? 'block' : 'none';\n",
              "\n",
              "        async function convertToInteractive(key) {\n",
              "          const element = document.querySelector('#df-0d59b1ce-dfd7-4331-93ec-177ecd9801d4');\n",
              "          const dataTable =\n",
              "            await google.colab.kernel.invokeFunction('convertToInteractive',\n",
              "                                                     [key], {});\n",
              "          if (!dataTable) return;\n",
              "\n",
              "          const docLinkHtml = 'Like what you see? Visit the ' +\n",
              "            '<a target=\"_blank\" href=https://colab.research.google.com/notebooks/data_table.ipynb>data table notebook</a>'\n",
              "            + ' to learn more about interactive tables.';\n",
              "          element.innerHTML = '';\n",
              "          dataTable['output_type'] = 'display_data';\n",
              "          await google.colab.output.renderOutput(dataTable, element);\n",
              "          const docLink = document.createElement('div');\n",
              "          docLink.innerHTML = docLinkHtml;\n",
              "          element.appendChild(docLink);\n",
              "        }\n",
              "      </script>\n",
              "    </div>\n",
              "  </div>\n",
              "  "
            ]
          },
          "metadata": {},
          "execution_count": 39
        }
      ],
      "source": [
        "df.head(5)"
      ]
    },
    {
      "cell_type": "code",
      "execution_count": null,
      "metadata": {
        "colab": {
          "base_uri": "https://localhost:8080/",
          "height": 282
        },
        "id": "eZDlkWFfw4IQ",
        "outputId": "932bf561-74d5-461d-cd84-e459384ec2a8"
      },
      "outputs": [
        {
          "output_type": "execute_result",
          "data": {
            "text/plain": [
              "<matplotlib.axes._subplots.AxesSubplot at 0x7fd9f0472310>"
            ]
          },
          "metadata": {},
          "execution_count": 40
        },
        {
          "output_type": "display_data",
          "data": {
            "text/plain": [
              "<Figure size 432x288 with 1 Axes>"
            ],
            "image/png": "[encoded data removed]"
          },
          "metadata": {
            "needs_background": "light"
          }
        }
      ],
      "source": [
        "df['BMI'].hist()"
      ]
    },
    {
      "cell_type": "markdown",
      "metadata": {
        "id": "WkC90Ar5w4IQ"
      },
      "source": [
        "По гистограмме видно, что в нашей группе большинство людей имеют нормальный вес, есть некоторое количество с недостаточным весом, и совсем немного с избыточным.\n",
        "\n",
        "Людей с ожирением в нашей группе нет.\n",
        "\n",
        "Посмотрим, сколько получилось каких значений:"
      ]
    },
    {
      "cell_type": "code",
      "execution_count": null,
      "metadata": {
        "colab": {
          "base_uri": "https://localhost:8080/"
        },
        "id": "1DhP03Amw4IQ",
        "outputId": "5f59353d-c0d3-4993-e813-0cdbf3b083cf"
      },
      "outputs": [
        {
          "output_type": "execute_result",
          "data": {
            "text/plain": [
              "norm    17552\n",
              "low      7443\n",
              "high        6\n",
              "Name: weight indicator, dtype: int64"
            ]
          },
          "metadata": {},
          "execution_count": 41
        }
      ],
      "source": [
        "df['weight indicator'].value_counts()"
      ]
    },
    {
      "cell_type": "markdown",
      "metadata": {
        "id": "IzI7YSPRw4IR"
      },
      "source": [
        "Это поле 'weight indicator' уже не является числом, а принимает значения из ограниченного набора.\n",
        "Такие данные называются категориальными.\n",
        "\n",
        "Теперь мы можем посчитать еще одну характеристику, которая имеет смысл, только для категориальных данных.\n",
        "\n",
        "Это Мода - наиболее частое значение.\n",
        "\n",
        "Мы сразу можем сказать, что в нашем случае Мода = 'norm'\n",
        "\n",
        "А в библиотеке Pandas посчитать ее можно вот так:"
      ]
    },
    {
      "cell_type": "code",
      "execution_count": null,
      "metadata": {
        "colab": {
          "base_uri": "https://localhost:8080/"
        },
        "id": "eYTP4w1Xw4IR",
        "outputId": "b2922ab9-76ef-431c-fa73-c53020d9441c"
      },
      "outputs": [
        {
          "output_type": "execute_result",
          "data": {
            "text/plain": [
              "0    norm\n",
              "dtype: object"
            ]
          },
          "metadata": {},
          "execution_count": 42
        }
      ],
      "source": [
        "df['weight indicator'].mode()"
      ]
    },
    {
      "cell_type": "markdown",
      "metadata": {
        "id": "hrs6Dvfbw4IR"
      },
      "source": [
        "Вот теперь мы можем составить отчет для директора.\n",
        "\n",
        "Давайте посчитаем, какой процент людей имеет те или иные индикаторы (например, чтобы узнать процент людей с низким весом мы разделим количество этих людей на количество всех людей в группе):"
      ]
    },
    {
      "cell_type": "code",
      "execution_count": null,
      "metadata": {
        "colab": {
          "base_uri": "https://localhost:8080/"
        },
        "id": "-YWWVuTqw4IS",
        "outputId": "a4574bfb-8be2-4664-fd7e-1cd71cb561b2"
      },
      "outputs": [
        {
          "output_type": "stream",
          "name": "stdout",
          "text": [
            "недостаточный вес имеют 29.770809167633296%\n",
            "нормальный вес имеют 70.2051917923283%\n",
            "избыточный вес имеют 0.023999040038398464%\n"
          ]
        }
      ],
      "source": [
        "low_weight_ratio = len(df[df['weight indicator'] == 'low'])/len(df)\n",
        "norm_weight_ratio = len(df[df['weight indicator'] == 'norm'])/len(df)\n",
        "high_weight_ratio = len(df[df['weight indicator'] == 'high'])/len(df)\n",
        "  \n",
        "print(f'недостаточный вес имеют {low_weight_ratio*100}%')\n",
        "print(f'нормальный вес имеют {norm_weight_ratio*100}%')\n",
        "print(f'избыточный вес имеют {high_weight_ratio*100}%')"
      ]
    },
    {
      "cell_type": "markdown",
      "metadata": {
        "id": "M7wl6SfWw4IS"
      },
      "source": [
        "Теперь директор знает, что примерно 30% питания должно быть более калорийным, 70% - нормальным, и всего 6 порций - низкокалорийным."
      ]
    },
    {
      "cell_type": "markdown",
      "metadata": {
        "id": "UnbmfJh6w4IS"
      },
      "source": [
        "## На этом уроке мы попробовали сделать первичный анализ данных, узнали про такие характеристики данных как среднее, медиана, квантили, стандартное отклонение и мода. Узнали про категореальные данные. Научились строить и анализировать гистограммы, искать зависимости и делать выводы по данным."
      ]
    },
    {
      "cell_type": "code",
      "execution_count": null,
      "metadata": {
        "id": "Z8XmclSrw4IT"
      },
      "outputs": [],
      "source": []
    },
    {
      "cell_type": "markdown",
      "source": [
        "Подумайте над вопросом - почему, когда мы убрали из данных такой огромный выброс - 16-метрового человека, среднее значение роста почти не изменилось.\n",
        "\n",
        "Придумайте примеры наборов данных с зарплатой людей, с высоким и низким эксцессом, левым и правым перекосом.\n",
        "\n",
        "Если чувствуете для себя полезным, напишите на языке Python несколько функций (сколько захочется): которые по массиву натуральных чисел считают среднее арифметическое, медиану, моду, квантили."
      ],
      "metadata": {
        "id": "oiPddsu7STo1"
      }
    },
    {
      "cell_type": "code",
      "source": [],
      "metadata": {
        "id": "r7aQRS14SVKS"
      },
      "execution_count": null,
      "outputs": []
    }
  ],
  "metadata": {
    "kernelspec": {
      "display_name": "Python 3",
      "language": "python",
      "name": "python3"
    },
    "language_info": {
      "codemirror_mode": {
        "name": "ipython",
        "version": 3
      },
      "file_extension": ".py",
      "mimetype": "text/x-python",
      "name": "python",
      "nbconvert_exporter": "python",
      "pygments_lexer": "ipython3",
      "version": "3.6.13"
    },
    "colab": {
      "provenance": [],
      "collapsed_sections": [
        "kyQRqnTow4IO"
      ],
      "include_colab_link": true
    }
  },
  "nbformat": 4,
  "nbformat_minor": 0
}