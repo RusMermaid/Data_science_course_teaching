{
  "cells": [
    {
      "cell_type": "markdown",
      "metadata": {
        "id": "view-in-github",
        "colab_type": "text"
      },
      "source": [
        "<a href=\"https://colab.research.google.com/github/RusMermaid/Data_science_course_teaching/blob/main/L3.ipynb\" target=\"_parent\"><img src=\"https://colab.research.google.com/assets/colab-badge.svg\" alt=\"Open In Colab\"/></a>"
      ]
    },
    {
      "cell_type": "code",
      "execution_count": null,
      "metadata": {
        "hide_input": false,
        "id": "fWQqtmFY2hNZ"
      },
      "outputs": [],
      "source": [
        "#from preamble import *\n",
        "%matplotlib inline\n",
        "import matplotlib.pyplot as plt\n",
        "import numpy as np\n",
        "from scipy import sparse\n",
        "import pandas as pd\n",
        "import IPython\n",
        "import sklearn"
      ]
    },
    {
      "cell_type": "markdown",
      "metadata": {
        "id": "HYfr96qC2hNe"
      },
      "source": [
        "#### В этом блокноте мы рассмотрим простой пример применения машинного обучения и построим нашу первую модель. \n",
        "\n",
        "В процессе мы\n",
        " мы познакомимся с некоторыми основными принципами и\n",
        "терминами.\n"
      ]
    },
    {
      "cell_type": "markdown",
      "metadata": {
        "id": "T5yuGwHC2hNh"
      },
      "source": [
        "Алгоритмы машинного обучения используются для принятия решений на основе данных.\n",
        "\n",
        "Данные состоят из отдельных объектов описывающих учеников, или пациентов, фотографии лиц, посты в соц сетях итд.\n",
        "\n",
        "Что такое описание объекта?\n",
        "\n",
        "Это разные признаки, выраженные в числах или категориях.\n",
        "\n",
        "Например, рост, вес и цвет волос учеников.\n",
        "\n",
        "Температура, давление, пульс, дата приема пациентов.\n",
        "\n",
        "Значения яркости пикселов для каждой точки фото.\n",
        "\n",
        "Частоты встречаемости разных слов в текстах.\n",
        "\n",
        "Какие решения могут быть приняты на основе таких данных?\n",
        "\n",
        "Предсказать группу здоровья ученика.\n",
        "\n",
        "Опредилить диагноз пациента.\n",
        "\n",
        "Определить, является ли человек сотрудником данной фирмы и открыть ворота на парковке.\n",
        "\n",
        "Определить эмоциональную окраску текста.\n",
        "\n",
        "Итд.\n",
        "\n",
        "Если решения, которые мы ожидаем от искусственного интеллекта заключаются в в выборе одного ответа (класса) из нескольких возможных,\n",
        "то такие задачи называются классификацией, например: 1я, 2я, 3я группа здоровья, или грипп, ангина, ковид, или человек работает/не работает в данной фирме, или положительный/отрицательный отзыв на товар в соц сетях.\n",
        "\n",
        "Для задач классификации обычно нужен датасет, в котором для каждого объекта известен правильный ответ - значение определенного класса. Если алгоритм обучаясь использует такой датасет,  то такой процесс называется обучением с учителем или контролируемым обучением (supervised learning): пользователь предоставляет алгоритму данные - признаки-ответ, а алгоритм учится получать ответ по признакам.\n",
        "\n",
        "В дальнейшем, алгоритм становится способен выдать ответ для объекта, которого он никогда не видел раньше, без какой-либо\n",
        "помощи человека."
      ]
    },
    {
      "cell_type": "code",
      "execution_count": null,
      "metadata": {
        "id": "ghaxNeYx2hNl"
      },
      "outputs": [],
      "source": []
    },
    {
      "cell_type": "markdown",
      "metadata": {
        "id": "lKeSl4V92hNm"
      },
      "source": [
        "Давайте решим нашу первую задачу"
      ]
    },
    {
      "cell_type": "markdown",
      "metadata": {
        "id": "IX0KpjLt2hNp"
      },
      "source": [
        "Предположим, что ботаник-любитель хочет классифицировать сорта ирисов, которые он собрал. Он измерил в сантиметрах некоторые\n",
        "характеристики ирисов: длину и ширину лепестков, а также длину и ширину чашелистиков (см. рисунок).\n",
        "\n",
        "\n",
        "Кроме того, у него есть измерения этих же характеристик ирисов, которые ранее позволили опытному эксперту отнести их к сортам setosa,\n",
        "versicolor и virginica. Относительно этих ирисов ботаник-любитель уверенно может сказать, к какому сорту принадлежит каждый ирис.\n",
        "\n",
        "\n",
        "Давайте предположим, что перечисленные сорта являются единственными сортами, которые ботаник-любитель может встретить в\n",
        "дикой природе.\n",
        "\n",
        "\n",
        "Наша цель заключается в построении модели машинного обучения, которая сможет обучиться на основе характеристик ирисов, уже\n",
        "классифицированных по сортам, и затем предскажет сорт для нового цветка ириса."
      ]
    },
    {
      "cell_type": "markdown",
      "metadata": {
        "id": "9VXtWli82hNs"
      },
      "source": [
        "Данные, которые мы будем использовать для этого примера, – это набор\n",
        "данных Iris, классический набор данных для учебных экспериментов в машинном обучении.\n",
        "\n",
        "Загрузим данные и посмотрим на них."
      ]
    },
    {
      "cell_type": "code",
      "execution_count": null,
      "metadata": {
        "id": "irbBhIfR2hNt"
      },
      "outputs": [],
      "source": [
        "iris_df = pd.read_csv('iris.csv')"
      ]
    },
    {
      "cell_type": "code",
      "execution_count": null,
      "metadata": {
        "colab": {
          "base_uri": "https://localhost:8080/",
          "height": 206
        },
        "id": "ZHnlV2fl2hNu",
        "outputId": "08cf11e8-3202-4c2c-8594-c75c2f8a708b"
      },
      "outputs": [
        {
          "output_type": "execute_result",
          "data": {
            "text/plain": [
              "   sepal length (cm)  sepal width (cm)  petal length (cm)  petal width (cm)  \\\n",
              "0                5.1               3.5                1.4               0.2   \n",
              "1                4.9               3.0                1.4               0.2   \n",
              "2                4.7               3.2                1.3               0.2   \n",
              "3                4.6               3.1                1.5               0.2   \n",
              "4                5.0               3.6                1.4               0.2   \n",
              "\n",
              "   setosa-0 versicolor-1 virginica-2  \n",
              "0                                  0  \n",
              "1                                  0  \n",
              "2                                  0  \n",
              "3                                  0  \n",
              "4                                  0  "
            ],
            "text/html": [
              "\n",
              "  <div id=\"df-59f3c158-8d33-47b5-8239-511b77da1176\">\n",
              "    <div class=\"colab-df-container\">\n",
              "      <div>\n",
              "<style scoped>\n",
              "    .dataframe tbody tr th:only-of-type {\n",
              "        vertical-align: middle;\n",
              "    }\n",
              "\n",
              "    .dataframe tbody tr th {\n",
              "        vertical-align: top;\n",
              "    }\n",
              "\n",
              "    .dataframe thead th {\n",
              "        text-align: right;\n",
              "    }\n",
              "</style>\n",
              "<table border=\"1\" class=\"dataframe\">\n",
              "  <thead>\n",
              "    <tr style=\"text-align: right;\">\n",
              "      <th></th>\n",
              "      <th>sepal length (cm)</th>\n",
              "      <th>sepal width (cm)</th>\n",
              "      <th>petal length (cm)</th>\n",
              "      <th>petal width (cm)</th>\n",
              "      <th>setosa-0 versicolor-1 virginica-2</th>\n",
              "    </tr>\n",
              "  </thead>\n",
              "  <tbody>\n",
              "    <tr>\n",
              "      <th>0</th>\n",
              "      <td>5.1</td>\n",
              "      <td>3.5</td>\n",
              "      <td>1.4</td>\n",
              "      <td>0.2</td>\n",
              "      <td>0</td>\n",
              "    </tr>\n",
              "    <tr>\n",
              "      <th>1</th>\n",
              "      <td>4.9</td>\n",
              "      <td>3.0</td>\n",
              "      <td>1.4</td>\n",
              "      <td>0.2</td>\n",
              "      <td>0</td>\n",
              "    </tr>\n",
              "    <tr>\n",
              "      <th>2</th>\n",
              "      <td>4.7</td>\n",
              "      <td>3.2</td>\n",
              "      <td>1.3</td>\n",
              "      <td>0.2</td>\n",
              "      <td>0</td>\n",
              "    </tr>\n",
              "    <tr>\n",
              "      <th>3</th>\n",
              "      <td>4.6</td>\n",
              "      <td>3.1</td>\n",
              "      <td>1.5</td>\n",
              "      <td>0.2</td>\n",
              "      <td>0</td>\n",
              "    </tr>\n",
              "    <tr>\n",
              "      <th>4</th>\n",
              "      <td>5.0</td>\n",
              "      <td>3.6</td>\n",
              "      <td>1.4</td>\n",
              "      <td>0.2</td>\n",
              "      <td>0</td>\n",
              "    </tr>\n",
              "  </tbody>\n",
              "</table>\n",
              "</div>\n",
              "      <button class=\"colab-df-convert\" onclick=\"convertToInteractive('df-59f3c158-8d33-47b5-8239-511b77da1176')\"\n",
              "              title=\"Convert this dataframe to an interactive table.\"\n",
              "              style=\"display:none;\">\n",
              "        \n",
              "  <svg xmlns=\"http://www.w3.org/2000/svg\" height=\"24px\"viewBox=\"0 0 24 24\"\n",
              "       width=\"24px\">\n",
              "    <path d=\"M0 0h24v24H0V0z\" fill=\"none\"/>\n",
              "    <path d=\"M18.56 5.44l.94 2.06.94-2.06 2.06-.94-2.06-.94-.94-2.06-.94 2.06-2.06.94zm-11 1L8.5 8.5l.94-2.06 2.06-.94-2.06-.94L8.5 2.5l-.94 2.06-2.06.94zm10 10l.94 2.06.94-2.06 2.06-.94-2.06-.94-.94-2.06-.94 2.06-2.06.94z\"/><path d=\"M17.41 7.96l-1.37-1.37c-.4-.4-.92-.59-1.43-.59-.52 0-1.04.2-1.43.59L10.3 9.45l-7.72 7.72c-.78.78-.78 2.05 0 2.83L4 21.41c.39.39.9.59 1.41.59.51 0 1.02-.2 1.41-.59l7.78-7.78 2.81-2.81c.8-.78.8-2.07 0-2.86zM5.41 20L4 18.59l7.72-7.72 1.47 1.35L5.41 20z\"/>\n",
              "  </svg>\n",
              "      </button>\n",
              "      \n",
              "  <style>\n",
              "    .colab-df-container {\n",
              "      display:flex;\n",
              "      flex-wrap:wrap;\n",
              "      gap: 12px;\n",
              "    }\n",
              "\n",
              "    .colab-df-convert {\n",
              "      background-color: #E8F0FE;\n",
              "      border: none;\n",
              "      border-radius: 50%;\n",
              "      cursor: pointer;\n",
              "      display: none;\n",
              "      fill: #1967D2;\n",
              "      height: 32px;\n",
              "      padding: 0 0 0 0;\n",
              "      width: 32px;\n",
              "    }\n",
              "\n",
              "    .colab-df-convert:hover {\n",
              "      background-color: #E2EBFA;\n",
              "      box-shadow: 0px 1px 2px rgba(60, 64, 67, 0.3), 0px 1px 3px 1px rgba(60, 64, 67, 0.15);\n",
              "      fill: #174EA6;\n",
              "    }\n",
              "\n",
              "    [theme=dark] .colab-df-convert {\n",
              "      background-color: #3B4455;\n",
              "      fill: #D2E3FC;\n",
              "    }\n",
              "\n",
              "    [theme=dark] .colab-df-convert:hover {\n",
              "      background-color: #434B5C;\n",
              "      box-shadow: 0px 1px 3px 1px rgba(0, 0, 0, 0.15);\n",
              "      filter: drop-shadow(0px 1px 2px rgba(0, 0, 0, 0.3));\n",
              "      fill: #FFFFFF;\n",
              "    }\n",
              "  </style>\n",
              "\n",
              "      <script>\n",
              "        const buttonEl =\n",
              "          document.querySelector('#df-59f3c158-8d33-47b5-8239-511b77da1176 button.colab-df-convert');\n",
              "        buttonEl.style.display =\n",
              "          google.colab.kernel.accessAllowed ? 'block' : 'none';\n",
              "\n",
              "        async function convertToInteractive(key) {\n",
              "          const element = document.querySelector('#df-59f3c158-8d33-47b5-8239-511b77da1176');\n",
              "          const dataTable =\n",
              "            await google.colab.kernel.invokeFunction('convertToInteractive',\n",
              "                                                     [key], {});\n",
              "          if (!dataTable) return;\n",
              "\n",
              "          const docLinkHtml = 'Like what you see? Visit the ' +\n",
              "            '<a target=\"_blank\" href=https://colab.research.google.com/notebooks/data_table.ipynb>data table notebook</a>'\n",
              "            + ' to learn more about interactive tables.';\n",
              "          element.innerHTML = '';\n",
              "          dataTable['output_type'] = 'display_data';\n",
              "          await google.colab.output.renderOutput(dataTable, element);\n",
              "          const docLink = document.createElement('div');\n",
              "          docLink.innerHTML = docLinkHtml;\n",
              "          element.appendChild(docLink);\n",
              "        }\n",
              "      </script>\n",
              "    </div>\n",
              "  </div>\n",
              "  "
            ]
          },
          "metadata": {},
          "execution_count": 4
        }
      ],
      "source": [
        "iris_df.head(5)"
      ]
    },
    {
      "cell_type": "code",
      "source": [
        "len(iris_df)"
      ],
      "metadata": {
        "colab": {
          "base_uri": "https://localhost:8080/"
        },
        "id": "PqSxuwL33OS8",
        "outputId": "9df6f1ba-b99a-4a7e-9bd8-599baffa28db"
      },
      "execution_count": null,
      "outputs": [
        {
          "output_type": "execute_result",
          "data": {
            "text/plain": [
              "150"
            ]
          },
          "metadata": {},
          "execution_count": 5
        }
      ]
    },
    {
      "cell_type": "markdown",
      "metadata": {
        "id": "zyZ1BLap2hNw"
      },
      "source": [
        "Наши данные состоят из 150 строк (примеров), описывающих цветки ириса 3х разных сортов.\n",
        "\n",
        "Каждый пример содержит несколько измерений размеров лепестка и чашелистника одного конкретного цветка. Эти измерения называются факторами, или признаками (features)\n",
        "\n",
        "Кроме этого, каждый пример содержит название сорта этого цветка. В данной задаче сорт цветка является целью предсказания, и называется меткой (label).\n",
        "\n",
        "Итак, в нашей задаче мы имеем примеры, для которых знаем правильные ответы (метки сортов ириса), и на этих примерах мы хотим научить модель предсказывать сорт ириса. Такая задача является задачей обучения с учителем.\n",
        "\n",
        "В этой задаче нам нужно предсказать один из 3х сортов ириса. Мы хотим отнести каждый пример к одной из 3х групп. Эти группы (сорта ириса) называются классами (classes). А такая задача является задачей классификации (classification).\n",
        "\n",
        "Каждый ирис в наборе данных принадлежит к одному из трех классов, таким образом решаемая задача является задачей трехклассовой классификации.\n",
        "\n",
        "Ответом для каждого примера данных (ириса) является тот или иной сорт этого цветка."
      ]
    },
    {
      "cell_type": "markdown",
      "metadata": {
        "id": "UMbFfQUP2hNx"
      },
      "source": [
        "В последней колонке находится метка - правильный ответ, закодированный в числе: 0 – setosa, 1 – versicolor, а 2 – virginica.\n",
        "\n",
        "Будем называть эту колонку target - то есть, цель нашего предсказания."
      ]
    },
    {
      "cell_type": "code",
      "execution_count": null,
      "metadata": {
        "id": "NCfYgc-D2hNy"
      },
      "outputs": [],
      "source": [
        "features = ['sepal length (cm)', 'sepal width (cm)', 'petal length (cm)', 'petal width (cm)']\n",
        "target = 'setosa-0 versicolor-1 virginica-2'\n",
        "\n",
        "#в список target_names запишем названия сортов ириса из целевой колонки\n",
        "target_names = ['setosa', 'versicolor', 'virginica']"
      ]
    },
    {
      "cell_type": "markdown",
      "metadata": {
        "id": "yRxTfTkH2hNz"
      },
      "source": [
        "#### Чего мы ожидаем от модели: обучающий и тестовый датасеты.\n",
        "\n",
        "На основе наших данных  мы хотим обучить модель. Она будет учиться предсказывать сорт ириса основе наших данных измерений и соответствующих им меток.\n",
        "\n",
        "Когда модель научится, мы можем померить лепестки и чашелистники у какого-нибудь нового ириса и получить от модели предсказание его сорта.\n",
        "\n",
        "Как нам понять, можно ли  доверять и использовать предсказания модели на новых данных, для которых у нас нет меток?\n",
        "\n",
        "В чем сущность машинного обучения?\n",
        "Вспомним, что если говорить самым простым образом, модель учится означает, что модель подбирает сложную формулу или алгоритм, который применяется к признакам и на выходе  \n",
        "\n",
        "Допустим, мы хотим научить модель определять пол человека по нашим данным.\n",
        "Мы описали маленькую группу людей, в данных записаны их имя и цвет волос. А меткой является пол.\n",
        "Пусть в нашей группе всего 3 человека:\n",
        "\n",
        "имя   цвет волос     пол\n",
        "\n",
        "маша    русые          ж\n",
        "\n",
        "миша    черные         м\n",
        "\n",
        "саша    черные         м\n",
        "\n",
        "Данных очень мало, научить модель на таком количестве невозможно.\n",
        "Какой самый простой вывод сделает модель?\n",
        "Что она предскажет для нового члена команды:\n",
        "\n",
        "катя  черные       ?\n",
        "\n",
        "Скорее всего, модель просто запомнит, что у мальчиков всегда черные волосы, а у девочек русые, или просто - не черные.\n",
        "И уверенно скажет что Катя с черными волосами - мальчик.\n",
        "И модель будет считать, что она молодец, правильно работает на всем обучающем наборе.\n",
        "\n",
        "Это «запоминание» ничего не говорит нам об обобщающей способности модели (другими словами, мы\n",
        "не знаем, будет ли эта модель так же хорошо работать на новых данных).\n",
        "\n",
        "Для того, чтобы более адекватно оценивать качество работы модели, обучающее множество делят на 2 части.\n",
        "Большую часть (обычно это 75% - 80% от всех данных) отделяют и называют обучающим датасетом или просто трейном (training set).\n",
        "Оставшуюся часть (20% - 25%) называют тестовыми данными или просто тестом (test set).\n",
        "\n",
        "Модель тренируется на обучающем наборе, а качество модели оценивается на тестовом наборе. Тестовый набор помечен метками (то есть там известны правильные ответы), но модель его не видела при обучении. Поэтому посчитав на тестовом датасете сколько раз модель ответила правильно, и сколько ошиблась, мы можем достаточно адекватно оценить качество ее работы, и принять решение, можно ли доверять предсказаниям модели на тех данных, где правильных ответов мы не знаем.\n",
        "\n",
        "#### Важно:\n",
        "Необходимо, чтобы обучающий и тестовый набор были бы похожи друг на друга. Чтобы данные были бы в них примерно одинаково распределены и сохранялось бы соотношение классов. Данные в датасетах часто бывают упорядочены, например наш набор про сорта ириса упорядочен по меткам сорта. Просто отделив 25% строк в конце датасета мы бы получили почти только сорт 2 в тестовом наборе, и сорта 0 и 1 в обучающем наборе. Поэтому, перед разбиением данных на тест и трейн их необходимо перемешивать.\n",
        "\n",
        "В библиотеке scikit-learn есть функция train_test_split, которая перемешивает набор данных и разбивает его на две части. Эта функция отбирает в обучающий набор 75% строк данных с соответствующими метками. Оставшиеся 25% данных с метками объявляются тестовым набором. \n",
        "\n",
        "Параметр random_state задает способ перемешивания. Он установлен на конкретное число для того, чтобы полученный результат был воспроизводим (разбиение на трейн и тест было одинаковым при каждом запуске).\n"
      ]
    },
    {
      "cell_type": "code",
      "execution_count": null,
      "metadata": {
        "id": "lcw5fym82hN0"
      },
      "outputs": [],
      "source": [
        "from sklearn.model_selection import train_test_split\n",
        "X_train, X_test, y_train, y_test = train_test_split(iris_df[features], iris_df[target], random_state=17)"
      ]
    },
    {
      "cell_type": "markdown",
      "metadata": {
        "id": "pukztc_y2hN1"
      },
      "source": [
        "Выводом функции train_test_split являются X_train, X_test, y_train и y_test, которые являются массивами Numpy. \n",
        "X_train содержит 75% данных с измерениями, а y_train метки, соответствующие измерениям.\n",
        "\n",
        "X_test содержит оставшиеся 25% измерений, а y_test - соответствующие им метки:"
      ]
    },
    {
      "cell_type": "code",
      "execution_count": null,
      "metadata": {
        "colab": {
          "base_uri": "https://localhost:8080/"
        },
        "id": "74IQ5S6u2hN2",
        "outputId": "b998913c-1ebf-496b-cba1-5a2b063e7486"
      },
      "outputs": [
        {
          "output_type": "stream",
          "name": "stdout",
          "text": [
            "X_train shape: (112, 4)\n",
            "y_train shape: (112,)\n"
          ]
        }
      ],
      "source": [
        "print(\"X_train shape:\", X_train.shape)\n",
        "print(\"y_train shape:\", y_train.shape)"
      ]
    },
    {
      "cell_type": "code",
      "execution_count": null,
      "metadata": {
        "colab": {
          "base_uri": "https://localhost:8080/"
        },
        "id": "RQCUs7m72hN2",
        "outputId": "677869fa-0fb6-4b77-8fe5-8884636f1ad1"
      },
      "outputs": [
        {
          "output_type": "stream",
          "name": "stdout",
          "text": [
            "X_test shape: (38, 4)\n",
            "y_test shape: (38,)\n"
          ]
        }
      ],
      "source": [
        "print(\"X_test shape:\", X_test.shape)\n",
        "print(\"y_test shape:\", y_test.shape)"
      ]
    },
    {
      "cell_type": "code",
      "execution_count": null,
      "metadata": {
        "colab": {
          "base_uri": "https://localhost:8080/"
        },
        "id": "RX9bXetx2hN3",
        "outputId": "a61f3ffa-0b66-49a5-ee71-0f1d79b11569"
      },
      "outputs": [
        {
          "output_type": "execute_result",
          "data": {
            "text/plain": [
              "16     0\n",
              "78     1\n",
              "145    2\n",
              "99     1\n",
              "126    2\n",
              "127    2\n",
              "84     1\n",
              "117    2\n",
              "80     1\n",
              "113    2\n",
              "144    2\n",
              "9      0\n",
              "55     1\n",
              "11     0\n",
              "110    2\n",
              "19     0\n",
              "38     0\n",
              "116    2\n",
              "100    2\n",
              "132    2\n",
              "133    2\n",
              "28     0\n",
              "149    2\n",
              "69     1\n",
              "66     1\n",
              "85     1\n",
              "53     1\n",
              "73     1\n",
              "0      0\n",
              "92     1\n",
              "29     0\n",
              "98     1\n",
              "37     0\n",
              "5      0\n",
              "81     1\n",
              "97     1\n",
              "96     1\n",
              "125    2\n",
              "Name: setosa-0 versicolor-1 virginica-2, dtype: int64"
            ]
          },
          "metadata": {},
          "execution_count": 11
        }
      ],
      "source": [
        "y_test "
      ]
    },
    {
      "cell_type": "markdown",
      "metadata": {
        "id": "rksGELtX2hN4"
      },
      "source": [
        "#### Вначале посмотрим на наши данные\n",
        "\n",
        "Перед тем как строить модель машинного обучения, стоит \n",
        "исследовать данные, чтобы понять, может ли задача быть решена.\n",
        "\n",
        "Кроме того, исследование данных – это хороший способ обнаружить аномалии и особенности. Например, вполне возможно, что некоторые из ваших ирисов измерены в дюймах, а не в сантиметрах. В реальном мире нестыковки в данных и неожиданности очень распространены.\n",
        "\n",
        "Давайте визуализируем данные с помощью матрицы диаграмм рассеяния (scatter plot). \n",
        "В диаграмме рассеяния один признак откладывается по оси х, а другой признак – по оси у, каждому наблюдению соответствует точка. Построив матрицу мы увидим попарные зависимости между факторами.\n",
        "\n",
        "Точки данных окрашены в соответствии с сортами ириса, к которым они относятся. \n",
        "\n",
        "По диагонали этой матрицы располагаются гистограммы каждого признака:"
      ]
    },
    {
      "cell_type": "code",
      "execution_count": null,
      "metadata": {
        "colab": {
          "base_uri": "https://localhost:8080/",
          "height": 896
        },
        "id": "ne2fKDjf2hN5",
        "outputId": "13a0e6e4-e9df-44b4-bab2-c1c6840edde4"
      },
      "outputs": [
        {
          "output_type": "execute_result",
          "data": {
            "text/plain": [
              "array([[<matplotlib.axes._subplots.AxesSubplot object at 0x7f89071c2790>,\n",
              "        <matplotlib.axes._subplots.AxesSubplot object at 0x7f890718de10>,\n",
              "        <matplotlib.axes._subplots.AxesSubplot object at 0x7f8907154450>,\n",
              "        <matplotlib.axes._subplots.AxesSubplot object at 0x7f8907107a50>],\n",
              "       [<matplotlib.axes._subplots.AxesSubplot object at 0x7f89070cc090>,\n",
              "        <matplotlib.axes._subplots.AxesSubplot object at 0x7f8907084690>,\n",
              "        <matplotlib.axes._subplots.AxesSubplot object at 0x7f890703ac90>,\n",
              "        <matplotlib.axes._subplots.AxesSubplot object at 0x7f8906ffd2d0>],\n",
              "       [<matplotlib.axes._subplots.AxesSubplot object at 0x7f8906fb4910>,\n",
              "        <matplotlib.axes._subplots.AxesSubplot object at 0x7f8906fbeb10>,\n",
              "        <matplotlib.axes._subplots.AxesSubplot object at 0x7f8906f2e510>,\n",
              "        <matplotlib.axes._subplots.AxesSubplot object at 0x7f8906f62b10>],\n",
              "       [<matplotlib.axes._subplots.AxesSubplot object at 0x7f8906ea8150>,\n",
              "        <matplotlib.axes._subplots.AxesSubplot object at 0x7f8906edd750>,\n",
              "        <matplotlib.axes._subplots.AxesSubplot object at 0x7f8906e93d50>,\n",
              "        <matplotlib.axes._subplots.AxesSubplot object at 0x7f8906e56390>]],\n",
              "      dtype=object)"
            ]
          },
          "metadata": {},
          "execution_count": 12
        },
        {
          "output_type": "display_data",
          "data": {
            "text/plain": [
              "<Figure size 720x720 with 16 Axes>"
            ],
            "image/png": "[encoded data removed]"
          },
          "metadata": {
            "needs_background": "light"
          }
        }
      ],
      "source": [
        "pd.plotting.scatter_matrix(X_train, c=y_train, figsize=(10, 10),\n",
        "                           marker='o', hist_kwds={'bins': 20}, s=60,\n",
        "                           alpha=.8)"
      ]
    },
    {
      "cell_type": "markdown",
      "metadata": {
        "id": "z75l1VRi2hN5"
      },
      "source": [
        "Взглянув на график, мы можем увидеть, что, похоже, измерения чашелистиков и лепестков позволяют относительно хорошо разделить\n",
        "три класса. \n",
        "\n",
        "Это означает, что модель машинного обучения, вероятно, сможет научиться разделять их."
      ]
    },
    {
      "cell_type": "markdown",
      "metadata": {
        "id": "5k_T7SqY2hN6"
      },
      "source": [
        "#### Построим нашу первую модель: k-Nearest Neighbors. K ближайших соседей. "
      ]
    },
    {
      "cell_type": "markdown",
      "metadata": {
        "id": "PcbOR7AI2hN6"
      },
      "source": [
        "Теперь мы можем начать строить реальную модель машинного обучения. В библиотеке scikit-learn имеется довольно много алгоритмов\n",
        "классификации, которые мы могли бы использовать для построения модели. \n",
        "\n",
        "В данном примере мы будем использовать классификатор на основе метода k ближайших соседей, который легко интерпретировать.\n",
        "Построение этой модели заключается лишь в запоминании обучающего набора. Для того, чтобы сделать прогноз для новой точки данных, алгоритм находит точку в обучающем наборе, которая находится ближе\n",
        "всего к новой точке. Затем он присваивает метку, принадлежащую этой точке обучающего набора, новой точке данных.\n",
        "\n",
        "k в методе k ближайших соседей означает, что вместо того, чтобы использовать лишь ближайшего соседа новой точки данных, мы в ходе обучения можем рассмотреть любое фиксированное число (k) соседей (например, рассмотреть ближайшие три или пять соседей). \n",
        "\n",
        "Тогда мы можем сделать прогноз для точки данных, используя класс, которому принадлежит большинство ее соседей."
      ]
    },
    {
      "cell_type": "markdown",
      "metadata": {
        "id": "fioi3iOu2hN6"
      },
      "source": [
        "Метод ближайших соседей (k Nearest Neighbors, или kNN) — очень популярный метод классификации. Это, наравне с деревом решений, один из самых понятных подходов к классификации. На уровне интуиции суть метода такова: посмотри на соседей, какие преобладают, таков и ты. \n",
        "\n",
        "Важно правильно выбрать метрику расстояния и если метрика расстояния между примерами введена достаточно удачно, то схожие примеры гораздо чаще лежат в одном классе, чем в разных. \n",
        "\n",
        "Согласно методу ближайших соседей, тестовый пример  будет отнесен к классу \"синие\", а не \"красные\".\n",
        "\n",
        "\n",
        "Например, если не знаешь, какой тип товара указать в объявлении для продажи велосипеда, можно найти объяалений с велосипедами, \n",
        "и если 4 из них отнесены к категории \"спорт\", и только один - к категории \"транспорт\", то здравый смысл подскажет \n",
        "для своего объявления тоже указать категорию \"спорт\".\n",
        "\n",
        "Для классификации каждого из объектов тестовой выборки необходимо последовательно выполнить следующие операции:\n",
        " - Вычислить расстояние до каждого из объектов обучающей выборки\n",
        " - Отобрать $k$ объектов обучающей выборки, расстояние до которых минимально\n",
        " - Класс классифицируемого объекта — это класс, наиболее часто встречающийся среди $k$ ближайших соседей\n",
        " \n",
        " Примечательное свойство такого подхода  – его ленивость. Это значит, что вычисления начинаются только в момент классификации \n",
        "тестового примера, а заранее, только при  наличии обучающих примеров, никакая модель не строится. \n",
        " \n",
        "\n",
        "### Метод ближайших соседей в реальных задачах\n",
        "- В чистом виде kNN может послужить хорошим стартом (baseline) в решении какой-либо задачи;\n",
        "\n",
        "Качество классификации методом ближайших соседей зависит от нескольких параметров:\n",
        " - число соседей\n",
        " - метрика расстояния между объектами (часто  евклидово расстояние, то есть, корень квадратный из суммы квадратов разностей признаков - координат). \n",
        "Отметим, что при использовании большинства метрик значения признаков надо масштабировать. \n",
        "Условно говоря, чтобы признак \"Зарплата\" с диапазоном значений до 100 тысяч не вносил больший вклад в расстояние, \n",
        "чем \"Возраст\" со значениями до 100. \n",
        " - веса соседей (соседи тестового примера могут входить с разными весами, например, чем дальше пример, тем с меньшим коэффициентом учитывается его \"голос\")"
      ]
    },
    {
      "cell_type": "markdown",
      "metadata": {
        "id": "9Wq6BDXw2hN7"
      },
      "source": [
        "#### Итак, построим нашу первую модель:"
      ]
    },
    {
      "cell_type": "markdown",
      "metadata": {
        "id": "7-w0i80C2hN7"
      },
      "source": [
        "В scikit-learn все модели машинного обучения реализованы в собственных классах, называемых классами Estimator. Алгоритм\n",
        "классификации на основе метода k ближайших соседей реализован в классификаторе KNeighborsClassifier модуля neighbors. Прежде чем использовать эту модель, нам нужно создать объект-экземпляр класса.\n",
        "\n",
        "Это произойдет, когда мы зададим параметры модели. Самым важным параметром KNeighborsClassifier является количество соседей, которые мы установим равным 1:"
      ]
    },
    {
      "cell_type": "code",
      "execution_count": null,
      "metadata": {
        "id": "MrpG0INa2hN7"
      },
      "outputs": [],
      "source": [
        "from sklearn.neighbors import KNeighborsClassifier\n",
        "knn = KNeighborsClassifier(n_neighbors=1)"
      ]
    },
    {
      "cell_type": "markdown",
      "metadata": {
        "id": "iMv6x-zu2hN7"
      },
      "source": [
        "Объект knn включает в себя алгоритм, который будет использоваться для построения модели на обучающих данных, а также алгоритм,\n",
        "который сгенерирует прогнозы для новых точек данных. Он также будет содержать информацию, которую алгоритм извлек из обучающих\n",
        "данных. В случае с KNeighborsClassifier он будет просто хранить обучающий набор.\n",
        "\n",
        "Для построения модели на обучающем наборе, мы вызываем метод fit объекта knn, который принимает в качестве аргументов массив\n",
        "NumPy X_train, содержащий обучающие данные, и массив NumPy y_train, соответствующий обучающим меткам:"
      ]
    },
    {
      "cell_type": "code",
      "execution_count": null,
      "metadata": {
        "colab": {
          "base_uri": "https://localhost:8080/"
        },
        "id": "NudIHlr72hN7",
        "outputId": "d83dd699-f578-4cb9-9751-9e5963b037f2"
      },
      "outputs": [
        {
          "output_type": "execute_result",
          "data": {
            "text/plain": [
              "KNeighborsClassifier(n_neighbors=1)"
            ]
          },
          "metadata": {},
          "execution_count": 14
        }
      ],
      "source": [
        "knn.fit(X_train, y_train)"
      ]
    },
    {
      "cell_type": "markdown",
      "metadata": {
        "id": "1k1ez9Yr2hN8"
      },
      "source": [
        "#### Построение прогнозов, Making Predictions"
      ]
    },
    {
      "cell_type": "markdown",
      "metadata": {
        "id": "oodVe_632hN8"
      },
      "source": [
        "Теперь мы можем получить прогнозы, применив нашу модель к новым данным, по которым мы еще не знаем правильные метки. \n",
        "\n",
        "Представьте, что мы нашли в дикой природе ирис с длиной чашелистика 5 см, шириной чашелистика 2.9 см, длиной лепестка 1 см и шириной лепестка 0.2 см. К какому сорту ириса нужно отнести этот цветок? \n",
        "\n",
        "Мы можем поместить эти данные в массив NumPy. \n",
        "\n",
        "Посмотрим на его форму: количество примеров (1 строка) на количество признаков (4 столбца):"
      ]
    },
    {
      "cell_type": "code",
      "execution_count": null,
      "metadata": {
        "colab": {
          "base_uri": "https://localhost:8080/"
        },
        "id": "2sLjO6e72hN8",
        "outputId": "000f235c-e64c-4d04-b48e-d12634a17b39"
      },
      "outputs": [
        {
          "output_type": "stream",
          "name": "stdout",
          "text": [
            "X_new.shape: (1, 4)\n"
          ]
        }
      ],
      "source": [
        "X_new = np.array([[5, 2.9, 1, 0.2]])\n",
        "print(\"X_new.shape:\", X_new.shape)"
      ]
    },
    {
      "cell_type": "markdown",
      "metadata": {
        "id": "5OIvNEN-2hN8"
      },
      "source": [
        "Обратите внимание, что мы записали измерения по одному цветку в двумерный массив NumPy, поскольку scikit-learn работает с\n",
        "двумерными массивами данных.\n",
        "\n",
        "Чтобы сделать прогноз, мы вызываем метод predict объекта knn:"
      ]
    },
    {
      "cell_type": "code",
      "execution_count": null,
      "metadata": {
        "colab": {
          "base_uri": "https://localhost:8080/"
        },
        "id": "b5zrIyHO2hN8",
        "outputId": "92e1648c-27a6-44e1-a990-cd6ab9cfce00"
      },
      "outputs": [
        {
          "output_type": "stream",
          "name": "stdout",
          "text": [
            "предсказаная метка: 0\n",
            "сорт ириса: setosa\n"
          ]
        },
        {
          "output_type": "stream",
          "name": "stderr",
          "text": [
            "/usr/local/lib/python3.7/dist-packages/sklearn/base.py:451: UserWarning: X does not have valid feature names, but KNeighborsClassifier was fitted with feature names\n",
            "  \"X does not have valid feature names, but\"\n"
          ]
        }
      ],
      "source": [
        "prediction = knn.predict(X_new)[0]\n",
        "print(\"предсказаная метка:\", prediction)\n",
        "print(\"сорт ириса:\",\n",
        "       target_names[prediction])"
      ]
    },
    {
      "cell_type": "markdown",
      "metadata": {
        "id": "uf1XPz2C2hN9"
      },
      "source": [
        "Наша модель предсказывает, что этот новый цветок ириса принадлежит к классу 0, что означает сорт setosa. Но как узнать, можем\n",
        "ли мы доверять нашей модели? \n",
        "\n",
        "Правильный сорт ириса для этого примера нам неизвестен, а ведь именно получение правильных прогнозов и является главной задачей построения модели!"
      ]
    },
    {
      "cell_type": "markdown",
      "metadata": {
        "id": "Zp1x6g4E2hN9"
      },
      "source": [
        "#### Оценка качества модели. Evaluating the Model"
      ]
    },
    {
      "cell_type": "markdown",
      "metadata": {
        "id": "y28_pdHJ2hN9"
      },
      "source": [
        "Это тот самый момент, когда нам понадобится созданный ранее тестовый набор. Эти данные не использовались для построения модели, но мы знаем правильные сорта для каждого ириса в тестовом наборе. \n",
        "\n",
        "Поэтому, мы можем сделать прогноз для каждого ириса в тестовом наборе и сравнить его с фактической меткой (уже известным\n",
        "сортом). \n",
        "\n",
        "Мы можем оценить качество модели, вычислив \"аккуратность\" (accuracy) – процент цветов, для которых модель правильно\n",
        "спрогнозировала сорта:"
      ]
    },
    {
      "cell_type": "markdown",
      "metadata": {
        "id": "TPEHkvhx2hN9"
      },
      "source": [
        "Вначале посмотрим на предсказания для тестового набора:"
      ]
    },
    {
      "cell_type": "code",
      "execution_count": null,
      "metadata": {
        "colab": {
          "base_uri": "https://localhost:8080/"
        },
        "id": "0y0uKhE72hN9",
        "outputId": "430151dc-be4b-44f1-b1e4-3b6b74b8762d"
      },
      "outputs": [
        {
          "output_type": "stream",
          "name": "stdout",
          "text": [
            "Test set predictions:\n",
            " [0 1 2 1 2 2 1 2 1 2 2 0 1 0 2 0 0 2 2 2 1 0 2 1 1 1 1 1 0 1 0 1 0 0 1 1 1\n",
            " 2]\n"
          ]
        }
      ],
      "source": [
        "y_pred = knn.predict(X_test)\n",
        "print(\"Test set predictions:\\n\", y_pred)"
      ]
    },
    {
      "cell_type": "markdown",
      "metadata": {
        "id": "VwDLbRMz2hN-"
      },
      "source": [
        "Давайте посмотрим в каком проценте случаев наша модель делает правильное предсказание.\n",
        "\n",
        "Как посчитать процент правильных ответов?\n",
        "\n",
        "Количество правильных ответов разделить на количество всех примеров в тестовом наборе.\n",
        "\n",
        "метод score объекта knn сделает это за нас."
      ]
    },
    {
      "cell_type": "code",
      "execution_count": null,
      "metadata": {
        "colab": {
          "base_uri": "https://localhost:8080/"
        },
        "id": "E69wza192hN-",
        "outputId": "f17cdf9c-fa0d-4fff-ff75-dfb1182cbfaf"
      },
      "outputs": [
        {
          "output_type": "stream",
          "name": "stdout",
          "text": [
            "Test set score: 0.97\n"
          ]
        }
      ],
      "source": [
        "print(\"Test set score: {:.2f}\".format(knn.score(X_test, y_test)))"
      ]
    },
    {
      "cell_type": "markdown",
      "metadata": {
        "id": "8spsfi442hN-"
      },
      "source": [
        "Правильность этой модели для тестового набора составляет около 0.97, что означает, что мы дали правильный прогноз для 97% ирисов в тестовом наборе. \n",
        "\n",
        "При некоторых математических допущениях, это означает, что мы можем ожидать, что наша модель в 97% случаев даст правильный прогноз для новых ирисов. \n",
        "\n",
        "Для нашего ботаника-любителя этот высокий уровень \"аккуратности\" означает, что наша модель  достаточно надежна в использовании."
      ]
    },
    {
      "cell_type": "markdown",
      "metadata": {
        "id": "R2h0_MXW2hN-"
      },
      "source": [
        "### Summary and Outlook"
      ]
    },
    {
      "cell_type": "code",
      "execution_count": null,
      "metadata": {
        "colab": {
          "base_uri": "https://localhost:8080/"
        },
        "id": "NeezUOtb2hN_",
        "outputId": "3503f4ae-21af-4e70-d2bd-f7d833625193"
      },
      "outputs": [
        {
          "output_type": "stream",
          "name": "stdout",
          "text": [
            "Test set score: 0.97\n"
          ]
        }
      ],
      "source": [
        "X_train, X_test, y_train, y_test = train_test_split(\n",
        "    iris_df[features], iris_df[target], random_state=0)\n",
        "\n",
        "knn = KNeighborsClassifier(n_neighbors=1)\n",
        "knn.fit(X_train, y_train)\n",
        "\n",
        "print(\"Test set score: {:.2f}\".format(knn.score(X_test, y_test)))"
      ]
    },
    {
      "cell_type": "markdown",
      "metadata": {
        "id": "dqh8hnMI2hN_"
      },
      "source": [
        "Этот фрагмент содержит базовый код, необходимый для применения любого алгоритма машинного обучения с помощью scikit-learn.\n",
        "Методы fit, predict и score являются общими для моделей контролируемого обучения в scikit-learn и, используя принципы,\n",
        "приведенные в этом уроке, вы можете применить эти модели для решения различных задач машинного обучения. "
      ]
    },
    {
      "cell_type": "markdown",
      "metadata": {
        "id": "mbV9257y2hN_"
      },
      "source": [
        "Итак, в этом блокноте мы сформулировали задачу классификации ирисов на основе проведенных измерений характеристик\n",
        "цветов. \n",
        "\n",
        "Мы использовали набор данных, в котором эксперт уже предварительно классифицировал ирисы для построения модели, таким\n",
        "образом, мы решали задачу обучения с учителем. \n",
        "\n",
        "Было три возможных сорта ирисов – setosa, versicolor и virginica, что делало нашу задачу задачей 3-классовой классификации. В задаче классификации возможные сорта ирисов называются классами (classes) а сами названия сортов – метками (labels).\n",
        "\n",
        "Набор данных Iris является датафреймом pandas.\n",
        "\n",
        "Мы разделили наш набор данных на обучающий набор (training set), чтобы построить нашу модель, а также тестовый набор (test set), чтобы оценить, насколько хорошо наша модель будет классифицировать новые,\n",
        "ранее незнакомые ей данные.\n",
        "\n",
        "Мы выбрали алгоритм классификации k ближайших соседей, который генерирует прогноз для нового объекта данных ( измерений цветка) рассматривая ее находя его ближайшего соседа(ей) в обучающем наборе. \n",
        "\n",
        "Все это реализовано в классе KNeighborsClassifier, который содержит алгоритм, строящий модель, а также алгоритм, который дает прогнозы, используя построенную модель. \n",
        "\n",
        "Мы создали объект-экземпляр класса, задав параметры. Затем мы построили модель, вызвав метод fit и передав обучающие данные (X_train) и обучающие ответы (y_train) в качестве параметров. \n",
        "\n",
        "Мы оценили качество модели с использованием метода score, который вычисляет \"аккуратность\" модели. Мы применили метод\n",
        "score к тестовым данным и тестовым ответам и обнаружили, что наша модель демонстрирует \"аккуратность\" около 97%. Это означает, что модель выдает правильные прогнозы для 97% наблюдений тестового набора.\n",
        "\n",
        "\n",
        "Это убедило нас в том, что модель можно применить к новым данным (в нашем примере это измерения характеристик новых цветов), и мы надеемся, что эта модель даст правильные прогнозы в 97% случаев.\n"
      ]
    },
    {
      "cell_type": "code",
      "execution_count": null,
      "metadata": {
        "id": "l3k_pVcR2hN_"
      },
      "outputs": [],
      "source": []
    }
  ],
  "metadata": {
    "anaconda-cloud": {},
    "kernelspec": {
      "display_name": "Python 3",
      "language": "python",
      "name": "python3"
    },
    "language_info": {
      "codemirror_mode": {
        "name": "ipython",
        "version": 3
      },
      "file_extension": ".py",
      "mimetype": "text/x-python",
      "name": "python",
      "nbconvert_exporter": "python",
      "pygments_lexer": "ipython3",
      "version": "3.6.7"
    },
    "colab": {
      "provenance": [],
      "include_colab_link": true
    }
  },
  "nbformat": 4,
  "nbformat_minor": 0
}